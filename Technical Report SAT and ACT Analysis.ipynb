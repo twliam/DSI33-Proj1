{
 "cells": [
  {
   "cell_type": "markdown",
   "metadata": {},
   "source": [
    "<img src=\"http://imgur.com/1ZcRyrc.png\" style=\"float: left; margin: 20px; height: 55px\">\n",
    "\n",
    "# Project 1: Standardized Test Analysis"
   ]
  },
  {
   "cell_type": "markdown",
   "metadata": {},
   "source": [
    "--- \n",
    "# Part 1\n",
    "\n",
    "Part 1 requires knowledge of basic Python.\n",
    "\n",
    "---"
   ]
  },
  {
   "cell_type": "markdown",
   "metadata": {},
   "source": [
    "## Problem Statement"
   ]
  },
  {
   "cell_type": "markdown",
   "metadata": {},
   "source": [
    "Standardized testing remains a topic of controversy today. One of the arguments against requiring standardized test scores in college admissions is that students from wealthier backgrounds can afford better test prep and thus achieve higher scores on them. These tests may thus be seen as discerning family wealth rather than aptitude. This project aims to explore trends between family income levels and standardized test scores at an inter-state level to enable colleges to make better informed decisions on whether to use these test scores as part of their admissions criteria as well as for state officials."
   ]
  },
  {
   "cell_type": "markdown",
   "metadata": {},
   "source": [
    "### Contents:\n",
    "- [Background](#Background)\n",
    "- [Data Import & Cleaning](#Data-Import-and-Cleaning)\n",
    "- [Exploratory Data Analysis](#Exploratory-Data-Analysis)\n",
    "- [Data Visualization](#Visualize-the-Data)\n",
    "- [Conclusions and Recommendations](#Conclusions-and-Recommendations)"
   ]
  },
  {
   "cell_type": "markdown",
   "metadata": {},
   "source": [
    "## Background"
   ]
  },
  {
   "cell_type": "markdown",
   "metadata": {},
   "source": [
    "The SAT and ACT are standardized tests that many colleges and universities in the United States require for their admissions process. This score is used along with other materials such as grade point average (GPA) and essay responses to determine whether or not a potential student will be accepted to the university.\n",
    "\n",
    "The SAT has two sections of the test: Evidence-Based Reading and Writing and Math ([*source*](https://www.princetonreview.com/college/sat-sections)). The ACT has 4 sections: English, Mathematics, Reading, and Science, with an additional optional writing section ([*source*](https://www.act.org/content/act/en/products-and-services/the-act/scores/understanding-your-scores.html)). They have different score ranges, which you can read more about on their websites or additional outside sources (a quick Google search will help you understand the scores for each test):\n",
    "* [SAT](https://collegereadiness.collegeboard.org/sat)\n",
    "* [ACT](https://www.act.org/content/act/en.html)\n",
    "\n",
    "SAT total score has a range of 400-1600.\n",
    "ACT composite score has a range of 1-36.\n",
    "\n",
    "Standardized tests have long been a controversial topic for students, administrators, and legislators. Since the 1940's, an increasing number of colleges have been using scores from sudents' performances on tests like the SAT and the ACT as a measure for college readiness and aptitude ([*source*](https://www.minotdailynews.com/news/local-news/2017/04/a-brief-history-of-the-sat-and-act/)). Supporters of these tests argue that these scores can be used as an objective measure to determine college admittance. Opponents of these tests claim that these tests are not accurate measures of students potential or ability and serve as an inequitable barrier to entry. Lately, more and more schools are opting to drop the SAT/ACT requirement for their Fall 2021 applications ([*read more about this here*](https://www.cnn.com/2020/04/14/us/coronavirus-colleges-sat-act-test-trnd/index.html))."
   ]
  },
  {
   "cell_type": "markdown",
   "metadata": {},
   "source": [
    "### Choose your Data\n",
    "\n",
    "There are 10 datasets included in the [`data`](./data/) folder for this project. You are required to pick **at least two** of these to complete your analysis. Feel free to use more than two if you would like, or add other relevant datasets you find online.\n",
    "\n",
    "* [`act_2017.csv`](./data/act_2017.csv): 2017 ACT Scores by State\n",
    "* [`act_2018.csv`](./data/act_2018.csv): 2018 ACT Scores by State\n",
    "* [`act_2019.csv`](./data/act_2019.csv): 2019 ACT Scores by State\n",
    "* [`act_2019_ca.csv`](./data/act_2019_ca.csv): 2019 ACT Scores in California by School\n",
    "* [`sat_2017.csv`](./data/sat_2017.csv): 2017 SAT Scores by State\n",
    "* [`sat_2018.csv`](./data/sat_2018.csv): 2018 SAT Scores by State\n",
    "* [`sat_2019.csv`](./data/sat_2019.csv): 2019 SAT Scores by State\n",
    "* [`sat_2019_by_intended_college_major.csv`](./data/sat_2019_by_intended_college_major.csv): 2019 SAT Scores by Intended College Major\n",
    "* [`sat_2019_ca.csv`](./data/sat_2019_ca.csv): 2019 SAT Scores in California by School\n",
    "* [`sat_act_by_college.csv`](./data/sat_act_by_college.csv): Ranges of Accepted ACT & SAT Student Scores by Colleges"
   ]
  },
  {
   "cell_type": "markdown",
   "metadata": {},
   "source": [
    "Datasets Used:\n",
    "* [`act_2019.csv`](./data/act_2019.csv): 2019 ACT participation rates and composite scores by state\n",
    "* [`sat_2019.csv`](./data/sat_2019.csv): SAT participation rates and scores by state\n",
    "* [`us_income_2019.csv`](./data/us_income_2019.csv): 2019 median household/family/per capita income by state extracted from US census 2020 data; source https://data.census.gov/"
   ]
  },
  {
   "cell_type": "markdown",
   "metadata": {},
   "source": [
    "### Outside Research"
   ]
  },
  {
   "cell_type": "markdown",
   "metadata": {},
   "source": [
    "Back in 2013, the college board's own data showed that SAT scores are highly correlated with income, with those from families earning more than \\\\$200,000 a year averaging almost 400 points higher than students from familes earning under \\\\$20,000 a year. The writing test had the biggest gap and was dropped during the SAT overhaul in 2014 ([*source*](https://archive.ph/NqLrh),\n",
    "[*additional information*](https://secure-media.collegeboard.org/digitalServices/pdf/research/2013/TotalGroup-2013.pdf)).\n",
    "A relatively recent study in 2021 about college admissions tests revealed that the SAT and ACT tests discriminate against low-income students in terms of college admissions at selective colleges. The forbes article that summarized the study highlighted a key finding that \"students with family income of \\\\$100,000 or more are more than twice as likely as students with family income under \\\\$50,000 to have combined SAT test scores of 1400 to 1600\".[*source*](https://www.forbes.com/sites/markkantrowitz/2021/05/21/how-admissions-tests-discriminate-against-low-income-and-minority-student-admissions-at-selective-colleges/?sh=979aa733cc1c)"
   ]
  },
  {
   "cell_type": "markdown",
   "metadata": {},
   "source": [
    "### Coding Challenges\n",
    "\n",
    "1. Manually calculate mean:\n",
    "\n",
    "    Write a function that takes in values and returns the mean of the values. Create a list of numbers that you test on your function to check to make sure your function works!\n",
    "    \n",
    "    *Note*: Do not use any mean methods built-in to any Python libraries to do this! This should be done without importing any additional libraries."
   ]
  },
  {
   "cell_type": "code",
   "execution_count": 1,
   "metadata": {},
   "outputs": [],
   "source": [
    "# Code:\n",
    "def mean_calc(arr):\n",
    "    mean = sum(arr) / len(arr)\n",
    "    return mean"
   ]
  },
  {
   "cell_type": "markdown",
   "metadata": {},
   "source": [
    "2. Manually calculate standard deviation:\n",
    "\n",
    "    The formula for standard deviation is below:\n",
    "\n",
    "    $$\\sigma = \\sqrt{\\frac{1}{n}\\sum_{i=1}^n(x_i - \\mu)^2}$$\n",
    "\n",
    "    Where $x_i$ represents each value in the dataset, $\\mu$ represents the mean of all values in the dataset and $n$ represents the number of values in the dataset.\n",
    "\n",
    "    Write a function that takes in values and returns the standard deviation of the values using the formula above. Hint: use the function you wrote above to calculate the mean! Use the list of numbers you created above to test on your function.\n",
    "    \n",
    "    *Note*: Do not use any standard deviation methods built-in to any Python libraries to do this! This should be done without importing any additional libraries."
   ]
  },
  {
   "cell_type": "code",
   "execution_count": 2,
   "metadata": {},
   "outputs": [
    {
     "name": "stdout",
     "output_type": "stream",
     "text": [
      "2.581988897471611\n"
     ]
    }
   ],
   "source": [
    "# Code:\n",
    "def std_dev(arr):\n",
    "    mean = mean_calc(arr)  # Find the mean\n",
    "    # Subtract the mean from each element, square each result, and take their sum\n",
    "    var = 0\n",
    "    for i in arr:\n",
    "        var += (i - mean)**2\n",
    "    var = var / len(arr)  # Compute variance\n",
    "    sd = var**0.5  # sd = sqrt variance\n",
    "    return(sd)\n",
    "\n",
    "test = [1,2,3,4,5,6,7,8,9] # SD should be 2.6\n",
    "print(std_dev(test))"
   ]
  },
  {
   "cell_type": "markdown",
   "metadata": {},
   "source": [
    "3. Data cleaning function:\n",
    "    \n",
    "    Write a function that takes in a string that is a number and a percent symbol (ex. '50%', '30.5%', etc.) and converts this to a float that is the decimal approximation of the percent. For example, inputting '50%' in your function should return 0.5, '30.5%' should return 0.305, etc. Make sure to test your function to make sure it works!\n",
    "\n",
    "You will use these functions later on in the project!"
   ]
  },
  {
   "cell_type": "code",
   "execution_count": 3,
   "metadata": {},
   "outputs": [
    {
     "data": {
      "text/plain": [
       "0.66"
      ]
     },
     "execution_count": 3,
     "metadata": {},
     "output_type": "execute_result"
    }
   ],
   "source": [
    "# Code:\n",
    "def percent_to_decimal(number):\n",
    "    try:\n",
    "        number = float(number.strip(\"%\")) / 100 # Strip '%', divide by 100, and convert to float\n",
    "        return number\n",
    "    except:\n",
    "        return np.nan\n",
    "\n",
    "percent_to_decimal('66%')"
   ]
  },
  {
   "cell_type": "markdown",
   "metadata": {},
   "source": [
    "--- \n",
    "# Part 2\n",
    "\n",
    "Part 2 requires knowledge of Pandas, EDA, data cleaning, and data visualization.\n",
    "\n",
    "---"
   ]
  },
  {
   "cell_type": "markdown",
   "metadata": {},
   "source": [
    "*All libraries used should be added here*"
   ]
  },
  {
   "cell_type": "code",
   "execution_count": 4,
   "metadata": {},
   "outputs": [],
   "source": [
    "# Imports:\n",
    "import numpy as np\n",
    "import pandas as pd\n",
    "import matplotlib.pyplot as plt\n",
    "import seaborn as sns"
   ]
  },
  {
   "cell_type": "markdown",
   "metadata": {},
   "source": [
    "## Data Import and Cleaning"
   ]
  },
  {
   "cell_type": "markdown",
   "metadata": {},
   "source": [
    "### Data Import & Cleaning\n",
    "\n",
    "Import the datasets that you selected for this project and go through the following steps at a minimum. You are welcome to do further cleaning as you feel necessary:\n",
    "1. Display the data: print the first 5 rows of each dataframe to your Jupyter notebook.\n",
    "2. Check for missing values.\n",
    "3. Check for any obvious issues with the observations (keep in mind the minimum & maximum possible values for each test/subtest).\n",
    "4. Fix any errors you identified in steps 2-3.\n",
    "5. Display the data types of each feature.\n",
    "6. Fix any incorrect data types found in step 5.\n",
    "    - Fix any individual values preventing other columns from being the appropriate type.\n",
    "    - If your dataset has a column of percents (ex. '50%', '30.5%', etc.), use the function you wrote in Part 1 (coding challenges, number 3) to convert this to floats! *Hint*: use `.map()` or `.apply()`.\n",
    "7. Rename Columns.\n",
    "    - Column names should be all lowercase.\n",
    "    - Column names should not contain spaces (underscores will suffice--this allows for using the `df.column_name` method to access columns in addition to `df['column_name']`).\n",
    "    - Column names should be unique and informative.\n",
    "8. Drop unnecessary rows (if needed).\n",
    "9. Merge dataframes that can be merged.\n",
    "10. Perform any additional cleaning that you feel is necessary.\n",
    "11. Save your cleaned and merged dataframes as csv files."
   ]
  },
  {
   "cell_type": "code",
   "execution_count": 5,
   "metadata": {},
   "outputs": [],
   "source": [
    "# import the datasets:\n",
    "act_2019 = pd.read_csv('data/act_2019.csv')\n",
    "sat_2019 = pd.read_csv('data/sat_2019.csv')\n",
    "income_2019 = pd.read_csv('data/us_income_2019.csv')"
   ]
  },
  {
   "cell_type": "code",
   "execution_count": 6,
   "metadata": {},
   "outputs": [
    {
     "data": {
      "text/html": [
       "<div>\n",
       "<style scoped>\n",
       "    .dataframe tbody tr th:only-of-type {\n",
       "        vertical-align: middle;\n",
       "    }\n",
       "\n",
       "    .dataframe tbody tr th {\n",
       "        vertical-align: top;\n",
       "    }\n",
       "\n",
       "    .dataframe thead th {\n",
       "        text-align: right;\n",
       "    }\n",
       "</style>\n",
       "<table border=\"1\" class=\"dataframe\">\n",
       "  <thead>\n",
       "    <tr style=\"text-align: right;\">\n",
       "      <th></th>\n",
       "      <th>State</th>\n",
       "      <th>Participation</th>\n",
       "      <th>Composite</th>\n",
       "    </tr>\n",
       "  </thead>\n",
       "  <tbody>\n",
       "    <tr>\n",
       "      <th>0</th>\n",
       "      <td>Alabama</td>\n",
       "      <td>100%</td>\n",
       "      <td>18.9</td>\n",
       "    </tr>\n",
       "    <tr>\n",
       "      <th>1</th>\n",
       "      <td>Alaska</td>\n",
       "      <td>38%</td>\n",
       "      <td>20.1</td>\n",
       "    </tr>\n",
       "    <tr>\n",
       "      <th>2</th>\n",
       "      <td>Arizona</td>\n",
       "      <td>73%</td>\n",
       "      <td>19.0</td>\n",
       "    </tr>\n",
       "    <tr>\n",
       "      <th>3</th>\n",
       "      <td>Arkansas</td>\n",
       "      <td>100%</td>\n",
       "      <td>19.3</td>\n",
       "    </tr>\n",
       "    <tr>\n",
       "      <th>4</th>\n",
       "      <td>California</td>\n",
       "      <td>23%</td>\n",
       "      <td>22.6</td>\n",
       "    </tr>\n",
       "  </tbody>\n",
       "</table>\n",
       "</div>"
      ],
      "text/plain": [
       "        State Participation  Composite\n",
       "0     Alabama          100%       18.9\n",
       "1      Alaska           38%       20.1\n",
       "2     Arizona           73%       19.0\n",
       "3    Arkansas          100%       19.3\n",
       "4  California           23%       22.6"
      ]
     },
     "execution_count": 6,
     "metadata": {},
     "output_type": "execute_result"
    }
   ],
   "source": [
    "# display the data\n",
    "act_2019.head()"
   ]
  },
  {
   "cell_type": "code",
   "execution_count": 7,
   "metadata": {},
   "outputs": [
    {
     "data": {
      "text/plain": [
       "State            0\n",
       "Participation    0\n",
       "Composite        0\n",
       "dtype: int64"
      ]
     },
     "execution_count": 7,
     "metadata": {},
     "output_type": "execute_result"
    }
   ],
   "source": [
    "# check for missing values\n",
    "act_2019.isnull().sum()"
   ]
  },
  {
   "cell_type": "code",
   "execution_count": 8,
   "metadata": {},
   "outputs": [
    {
     "name": "stdout",
     "output_type": "stream",
     "text": [
      "<class 'pandas.core.frame.DataFrame'>\n",
      "RangeIndex: 52 entries, 0 to 51\n",
      "Data columns (total 3 columns):\n",
      " #   Column         Non-Null Count  Dtype  \n",
      "---  ------         --------------  -----  \n",
      " 0   State          52 non-null     object \n",
      " 1   Participation  52 non-null     object \n",
      " 2   Composite      52 non-null     float64\n",
      "dtypes: float64(1), object(2)\n",
      "memory usage: 1.3+ KB\n"
     ]
    }
   ],
   "source": [
    "# check for missing values and display data type\n",
    "act_2019.info()"
   ]
  },
  {
   "cell_type": "code",
   "execution_count": 9,
   "metadata": {},
   "outputs": [],
   "source": [
    "# use df.map to convert % strings to float\n",
    "act_2019['Participation'] = act_2019['Participation'].map(percent_to_decimal)"
   ]
  },
  {
   "cell_type": "code",
   "execution_count": 10,
   "metadata": {},
   "outputs": [
    {
     "name": "stdout",
     "output_type": "stream",
     "text": [
      "<class 'pandas.core.frame.DataFrame'>\n",
      "RangeIndex: 52 entries, 0 to 51\n",
      "Data columns (total 3 columns):\n",
      " #   Column         Non-Null Count  Dtype  \n",
      "---  ------         --------------  -----  \n",
      " 0   State          52 non-null     object \n",
      " 1   Participation  52 non-null     float64\n",
      " 2   Composite      52 non-null     float64\n",
      "dtypes: float64(2), object(1)\n",
      "memory usage: 1.3+ KB\n"
     ]
    }
   ],
   "source": [
    "# check dtype of converted column\n",
    "act_2019.info()"
   ]
  },
  {
   "cell_type": "code",
   "execution_count": 11,
   "metadata": {},
   "outputs": [
    {
     "name": "stdout",
     "output_type": "stream",
     "text": [
      "lowest ACT composite score is 17.9, highest ACT composite score is 25.5\n",
      "lowest ACT participation rate is 0.06, highest ACT participation rate is 1.0\n"
     ]
    }
   ],
   "source": [
    "# check if values are within expected range\n",
    "print(f\"lowest ACT composite score is {act_2019['Composite'].min()}, highest ACT composite score is {act_2019['Composite'].max()}\")\n",
    "print(f\"lowest ACT participation rate is {act_2019['Participation'].min()}, highest ACT participation rate is {act_2019['Participation'].max()}\")"
   ]
  },
  {
   "cell_type": "code",
   "execution_count": 12,
   "metadata": {},
   "outputs": [],
   "source": [
    "# rename columns\n",
    "act_2019.rename(columns={\n",
    "    'State': 'state',\n",
    "    'Participation': 'act_participation',\n",
    "    'Composite': 'act_composite_score'\n",
    "}, inplace=True)"
   ]
  },
  {
   "cell_type": "code",
   "execution_count": 13,
   "metadata": {},
   "outputs": [
    {
     "data": {
      "text/html": [
       "<div>\n",
       "<style scoped>\n",
       "    .dataframe tbody tr th:only-of-type {\n",
       "        vertical-align: middle;\n",
       "    }\n",
       "\n",
       "    .dataframe tbody tr th {\n",
       "        vertical-align: top;\n",
       "    }\n",
       "\n",
       "    .dataframe thead th {\n",
       "        text-align: right;\n",
       "    }\n",
       "</style>\n",
       "<table border=\"1\" class=\"dataframe\">\n",
       "  <thead>\n",
       "    <tr style=\"text-align: right;\">\n",
       "      <th></th>\n",
       "      <th>state</th>\n",
       "      <th>act_participation</th>\n",
       "      <th>act_composite_score</th>\n",
       "    </tr>\n",
       "  </thead>\n",
       "  <tbody>\n",
       "    <tr>\n",
       "      <th>0</th>\n",
       "      <td>Alabama</td>\n",
       "      <td>1.00</td>\n",
       "      <td>18.9</td>\n",
       "    </tr>\n",
       "    <tr>\n",
       "      <th>1</th>\n",
       "      <td>Alaska</td>\n",
       "      <td>0.38</td>\n",
       "      <td>20.1</td>\n",
       "    </tr>\n",
       "    <tr>\n",
       "      <th>2</th>\n",
       "      <td>Arizona</td>\n",
       "      <td>0.73</td>\n",
       "      <td>19.0</td>\n",
       "    </tr>\n",
       "    <tr>\n",
       "      <th>3</th>\n",
       "      <td>Arkansas</td>\n",
       "      <td>1.00</td>\n",
       "      <td>19.3</td>\n",
       "    </tr>\n",
       "    <tr>\n",
       "      <th>4</th>\n",
       "      <td>California</td>\n",
       "      <td>0.23</td>\n",
       "      <td>22.6</td>\n",
       "    </tr>\n",
       "  </tbody>\n",
       "</table>\n",
       "</div>"
      ],
      "text/plain": [
       "        state  act_participation  act_composite_score\n",
       "0     Alabama               1.00                 18.9\n",
       "1      Alaska               0.38                 20.1\n",
       "2     Arizona               0.73                 19.0\n",
       "3    Arkansas               1.00                 19.3\n",
       "4  California               0.23                 22.6"
      ]
     },
     "execution_count": 13,
     "metadata": {},
     "output_type": "execute_result"
    }
   ],
   "source": [
    "act_2019.head()"
   ]
  },
  {
   "cell_type": "code",
   "execution_count": 14,
   "metadata": {},
   "outputs": [
    {
     "data": {
      "text/html": [
       "<div>\n",
       "<style scoped>\n",
       "    .dataframe tbody tr th:only-of-type {\n",
       "        vertical-align: middle;\n",
       "    }\n",
       "\n",
       "    .dataframe tbody tr th {\n",
       "        vertical-align: top;\n",
       "    }\n",
       "\n",
       "    .dataframe thead th {\n",
       "        text-align: right;\n",
       "    }\n",
       "</style>\n",
       "<table border=\"1\" class=\"dataframe\">\n",
       "  <thead>\n",
       "    <tr style=\"text-align: right;\">\n",
       "      <th></th>\n",
       "      <th>State</th>\n",
       "      <th>Participation Rate</th>\n",
       "      <th>EBRW</th>\n",
       "      <th>Math</th>\n",
       "      <th>Total</th>\n",
       "    </tr>\n",
       "  </thead>\n",
       "  <tbody>\n",
       "    <tr>\n",
       "      <th>0</th>\n",
       "      <td>Alabama</td>\n",
       "      <td>7%</td>\n",
       "      <td>583</td>\n",
       "      <td>560</td>\n",
       "      <td>1143</td>\n",
       "    </tr>\n",
       "    <tr>\n",
       "      <th>1</th>\n",
       "      <td>Alaska</td>\n",
       "      <td>41%</td>\n",
       "      <td>556</td>\n",
       "      <td>541</td>\n",
       "      <td>1097</td>\n",
       "    </tr>\n",
       "    <tr>\n",
       "      <th>2</th>\n",
       "      <td>Arizona</td>\n",
       "      <td>31%</td>\n",
       "      <td>569</td>\n",
       "      <td>565</td>\n",
       "      <td>1134</td>\n",
       "    </tr>\n",
       "    <tr>\n",
       "      <th>3</th>\n",
       "      <td>Arkansas</td>\n",
       "      <td>6%</td>\n",
       "      <td>582</td>\n",
       "      <td>559</td>\n",
       "      <td>1141</td>\n",
       "    </tr>\n",
       "    <tr>\n",
       "      <th>4</th>\n",
       "      <td>California</td>\n",
       "      <td>63%</td>\n",
       "      <td>534</td>\n",
       "      <td>531</td>\n",
       "      <td>1065</td>\n",
       "    </tr>\n",
       "  </tbody>\n",
       "</table>\n",
       "</div>"
      ],
      "text/plain": [
       "        State Participation Rate  EBRW  Math  Total\n",
       "0     Alabama                 7%   583   560   1143\n",
       "1      Alaska                41%   556   541   1097\n",
       "2     Arizona                31%   569   565   1134\n",
       "3    Arkansas                 6%   582   559   1141\n",
       "4  California                63%   534   531   1065"
      ]
     },
     "execution_count": 14,
     "metadata": {},
     "output_type": "execute_result"
    }
   ],
   "source": [
    "# display the data\n",
    "sat_2019.head()"
   ]
  },
  {
   "cell_type": "code",
   "execution_count": 15,
   "metadata": {},
   "outputs": [
    {
     "data": {
      "text/plain": [
       "State                 0\n",
       "Participation Rate    0\n",
       "EBRW                  0\n",
       "Math                  0\n",
       "Total                 0\n",
       "dtype: int64"
      ]
     },
     "execution_count": 15,
     "metadata": {},
     "output_type": "execute_result"
    }
   ],
   "source": [
    "# check for missing values\n",
    "sat_2019.isnull().sum()"
   ]
  },
  {
   "cell_type": "code",
   "execution_count": 16,
   "metadata": {},
   "outputs": [
    {
     "name": "stdout",
     "output_type": "stream",
     "text": [
      "<class 'pandas.core.frame.DataFrame'>\n",
      "RangeIndex: 53 entries, 0 to 52\n",
      "Data columns (total 5 columns):\n",
      " #   Column              Non-Null Count  Dtype \n",
      "---  ------              --------------  ----- \n",
      " 0   State               53 non-null     object\n",
      " 1   Participation Rate  53 non-null     object\n",
      " 2   EBRW                53 non-null     int64 \n",
      " 3   Math                53 non-null     int64 \n",
      " 4   Total               53 non-null     int64 \n",
      "dtypes: int64(3), object(2)\n",
      "memory usage: 2.2+ KB\n"
     ]
    }
   ],
   "source": [
    "# display info\n",
    "sat_2019.info()"
   ]
  },
  {
   "cell_type": "code",
   "execution_count": 17,
   "metadata": {},
   "outputs": [
    {
     "data": {
      "text/html": [
       "<div>\n",
       "<style scoped>\n",
       "    .dataframe tbody tr th:only-of-type {\n",
       "        vertical-align: middle;\n",
       "    }\n",
       "\n",
       "    .dataframe tbody tr th {\n",
       "        vertical-align: top;\n",
       "    }\n",
       "\n",
       "    .dataframe thead th {\n",
       "        text-align: right;\n",
       "    }\n",
       "</style>\n",
       "<table border=\"1\" class=\"dataframe\">\n",
       "  <thead>\n",
       "    <tr style=\"text-align: right;\">\n",
       "      <th></th>\n",
       "      <th>State</th>\n",
       "      <th>Participation Rate</th>\n",
       "      <th>EBRW</th>\n",
       "      <th>Math</th>\n",
       "      <th>Total</th>\n",
       "    </tr>\n",
       "  </thead>\n",
       "  <tbody>\n",
       "    <tr>\n",
       "      <th>0</th>\n",
       "      <td>Alabama</td>\n",
       "      <td>7%</td>\n",
       "      <td>583</td>\n",
       "      <td>560</td>\n",
       "      <td>1143</td>\n",
       "    </tr>\n",
       "    <tr>\n",
       "      <th>1</th>\n",
       "      <td>Alaska</td>\n",
       "      <td>41%</td>\n",
       "      <td>556</td>\n",
       "      <td>541</td>\n",
       "      <td>1097</td>\n",
       "    </tr>\n",
       "    <tr>\n",
       "      <th>2</th>\n",
       "      <td>Arizona</td>\n",
       "      <td>31%</td>\n",
       "      <td>569</td>\n",
       "      <td>565</td>\n",
       "      <td>1134</td>\n",
       "    </tr>\n",
       "    <tr>\n",
       "      <th>3</th>\n",
       "      <td>Arkansas</td>\n",
       "      <td>6%</td>\n",
       "      <td>582</td>\n",
       "      <td>559</td>\n",
       "      <td>1141</td>\n",
       "    </tr>\n",
       "    <tr>\n",
       "      <th>4</th>\n",
       "      <td>California</td>\n",
       "      <td>63%</td>\n",
       "      <td>534</td>\n",
       "      <td>531</td>\n",
       "      <td>1065</td>\n",
       "    </tr>\n",
       "    <tr>\n",
       "      <th>5</th>\n",
       "      <td>Colorado</td>\n",
       "      <td>100%</td>\n",
       "      <td>518</td>\n",
       "      <td>506</td>\n",
       "      <td>1024</td>\n",
       "    </tr>\n",
       "    <tr>\n",
       "      <th>6</th>\n",
       "      <td>Connecticut</td>\n",
       "      <td>100%</td>\n",
       "      <td>529</td>\n",
       "      <td>516</td>\n",
       "      <td>1046</td>\n",
       "    </tr>\n",
       "    <tr>\n",
       "      <th>7</th>\n",
       "      <td>Delaware</td>\n",
       "      <td>100%</td>\n",
       "      <td>499</td>\n",
       "      <td>486</td>\n",
       "      <td>985</td>\n",
       "    </tr>\n",
       "    <tr>\n",
       "      <th>8</th>\n",
       "      <td>District of Columbia</td>\n",
       "      <td>94%</td>\n",
       "      <td>495</td>\n",
       "      <td>480</td>\n",
       "      <td>975</td>\n",
       "    </tr>\n",
       "    <tr>\n",
       "      <th>9</th>\n",
       "      <td>Florida</td>\n",
       "      <td>100%</td>\n",
       "      <td>516</td>\n",
       "      <td>483</td>\n",
       "      <td>999</td>\n",
       "    </tr>\n",
       "    <tr>\n",
       "      <th>10</th>\n",
       "      <td>Georgia</td>\n",
       "      <td>71%</td>\n",
       "      <td>538</td>\n",
       "      <td>519</td>\n",
       "      <td>1058</td>\n",
       "    </tr>\n",
       "    <tr>\n",
       "      <th>11</th>\n",
       "      <td>Hawaii</td>\n",
       "      <td>54%</td>\n",
       "      <td>550</td>\n",
       "      <td>550</td>\n",
       "      <td>1100</td>\n",
       "    </tr>\n",
       "    <tr>\n",
       "      <th>12</th>\n",
       "      <td>Idaho</td>\n",
       "      <td>100%</td>\n",
       "      <td>505</td>\n",
       "      <td>488</td>\n",
       "      <td>993</td>\n",
       "    </tr>\n",
       "    <tr>\n",
       "      <th>13</th>\n",
       "      <td>Illinois</td>\n",
       "      <td>100%</td>\n",
       "      <td>509</td>\n",
       "      <td>504</td>\n",
       "      <td>1013</td>\n",
       "    </tr>\n",
       "    <tr>\n",
       "      <th>14</th>\n",
       "      <td>Indiana</td>\n",
       "      <td>66%</td>\n",
       "      <td>543</td>\n",
       "      <td>537</td>\n",
       "      <td>1080</td>\n",
       "    </tr>\n",
       "    <tr>\n",
       "      <th>15</th>\n",
       "      <td>Iowa</td>\n",
       "      <td>3%</td>\n",
       "      <td>622</td>\n",
       "      <td>622</td>\n",
       "      <td>1244</td>\n",
       "    </tr>\n",
       "    <tr>\n",
       "      <th>16</th>\n",
       "      <td>Kansas</td>\n",
       "      <td>4%</td>\n",
       "      <td>618</td>\n",
       "      <td>623</td>\n",
       "      <td>1241</td>\n",
       "    </tr>\n",
       "    <tr>\n",
       "      <th>17</th>\n",
       "      <td>Kentucky</td>\n",
       "      <td>4%</td>\n",
       "      <td>620</td>\n",
       "      <td>612</td>\n",
       "      <td>1232</td>\n",
       "    </tr>\n",
       "    <tr>\n",
       "      <th>18</th>\n",
       "      <td>Louisiana</td>\n",
       "      <td>5%</td>\n",
       "      <td>610</td>\n",
       "      <td>591</td>\n",
       "      <td>1200</td>\n",
       "    </tr>\n",
       "    <tr>\n",
       "      <th>19</th>\n",
       "      <td>Maine</td>\n",
       "      <td>99%</td>\n",
       "      <td>512</td>\n",
       "      <td>502</td>\n",
       "      <td>1013</td>\n",
       "    </tr>\n",
       "    <tr>\n",
       "      <th>20</th>\n",
       "      <td>Maryland</td>\n",
       "      <td>82%</td>\n",
       "      <td>535</td>\n",
       "      <td>523</td>\n",
       "      <td>1058</td>\n",
       "    </tr>\n",
       "    <tr>\n",
       "      <th>21</th>\n",
       "      <td>Massachusetts</td>\n",
       "      <td>81%</td>\n",
       "      <td>559</td>\n",
       "      <td>561</td>\n",
       "      <td>1120</td>\n",
       "    </tr>\n",
       "    <tr>\n",
       "      <th>22</th>\n",
       "      <td>Michigan</td>\n",
       "      <td>100%</td>\n",
       "      <td>507</td>\n",
       "      <td>496</td>\n",
       "      <td>1003</td>\n",
       "    </tr>\n",
       "    <tr>\n",
       "      <th>23</th>\n",
       "      <td>Minnesota</td>\n",
       "      <td>4%</td>\n",
       "      <td>636</td>\n",
       "      <td>648</td>\n",
       "      <td>1284</td>\n",
       "    </tr>\n",
       "    <tr>\n",
       "      <th>24</th>\n",
       "      <td>Mississippi</td>\n",
       "      <td>3%</td>\n",
       "      <td>628</td>\n",
       "      <td>608</td>\n",
       "      <td>1237</td>\n",
       "    </tr>\n",
       "    <tr>\n",
       "      <th>25</th>\n",
       "      <td>Missouri</td>\n",
       "      <td>4%</td>\n",
       "      <td>622</td>\n",
       "      <td>615</td>\n",
       "      <td>1236</td>\n",
       "    </tr>\n",
       "    <tr>\n",
       "      <th>26</th>\n",
       "      <td>Montana</td>\n",
       "      <td>9%</td>\n",
       "      <td>603</td>\n",
       "      <td>596</td>\n",
       "      <td>1199</td>\n",
       "    </tr>\n",
       "    <tr>\n",
       "      <th>27</th>\n",
       "      <td>Nebraska</td>\n",
       "      <td>3%</td>\n",
       "      <td>628</td>\n",
       "      <td>631</td>\n",
       "      <td>1260</td>\n",
       "    </tr>\n",
       "    <tr>\n",
       "      <th>28</th>\n",
       "      <td>Nevada</td>\n",
       "      <td>20%</td>\n",
       "      <td>580</td>\n",
       "      <td>576</td>\n",
       "      <td>1156</td>\n",
       "    </tr>\n",
       "    <tr>\n",
       "      <th>29</th>\n",
       "      <td>New Hampshire</td>\n",
       "      <td>95%</td>\n",
       "      <td>533</td>\n",
       "      <td>526</td>\n",
       "      <td>1059</td>\n",
       "    </tr>\n",
       "    <tr>\n",
       "      <th>30</th>\n",
       "      <td>New Jersey</td>\n",
       "      <td>82%</td>\n",
       "      <td>544</td>\n",
       "      <td>545</td>\n",
       "      <td>1090</td>\n",
       "    </tr>\n",
       "    <tr>\n",
       "      <th>31</th>\n",
       "      <td>New Mexico</td>\n",
       "      <td>18%</td>\n",
       "      <td>543</td>\n",
       "      <td>530</td>\n",
       "      <td>1073</td>\n",
       "    </tr>\n",
       "    <tr>\n",
       "      <th>32</th>\n",
       "      <td>New York</td>\n",
       "      <td>79%</td>\n",
       "      <td>531</td>\n",
       "      <td>533</td>\n",
       "      <td>1064</td>\n",
       "    </tr>\n",
       "    <tr>\n",
       "      <th>33</th>\n",
       "      <td>North Carolina</td>\n",
       "      <td>51%</td>\n",
       "      <td>554</td>\n",
       "      <td>546</td>\n",
       "      <td>1100</td>\n",
       "    </tr>\n",
       "    <tr>\n",
       "      <th>34</th>\n",
       "      <td>North Dakota</td>\n",
       "      <td>2%</td>\n",
       "      <td>627</td>\n",
       "      <td>636</td>\n",
       "      <td>1263</td>\n",
       "    </tr>\n",
       "    <tr>\n",
       "      <th>35</th>\n",
       "      <td>Ohio</td>\n",
       "      <td>19%</td>\n",
       "      <td>550</td>\n",
       "      <td>548</td>\n",
       "      <td>1097</td>\n",
       "    </tr>\n",
       "    <tr>\n",
       "      <th>36</th>\n",
       "      <td>Oklahoma</td>\n",
       "      <td>22%</td>\n",
       "      <td>490</td>\n",
       "      <td>472</td>\n",
       "      <td>963</td>\n",
       "    </tr>\n",
       "    <tr>\n",
       "      <th>37</th>\n",
       "      <td>Oregon</td>\n",
       "      <td>51%</td>\n",
       "      <td>562</td>\n",
       "      <td>550</td>\n",
       "      <td>1112</td>\n",
       "    </tr>\n",
       "    <tr>\n",
       "      <th>38</th>\n",
       "      <td>Pennsylvania</td>\n",
       "      <td>70%</td>\n",
       "      <td>545</td>\n",
       "      <td>537</td>\n",
       "      <td>1082</td>\n",
       "    </tr>\n",
       "    <tr>\n",
       "      <th>39</th>\n",
       "      <td>Puerto Rico</td>\n",
       "      <td>—</td>\n",
       "      <td>483</td>\n",
       "      <td>462</td>\n",
       "      <td>944</td>\n",
       "    </tr>\n",
       "    <tr>\n",
       "      <th>40</th>\n",
       "      <td>Rhode Island</td>\n",
       "      <td>100%</td>\n",
       "      <td>503</td>\n",
       "      <td>492</td>\n",
       "      <td>995</td>\n",
       "    </tr>\n",
       "    <tr>\n",
       "      <th>41</th>\n",
       "      <td>South Carolina</td>\n",
       "      <td>68%</td>\n",
       "      <td>526</td>\n",
       "      <td>504</td>\n",
       "      <td>1030</td>\n",
       "    </tr>\n",
       "    <tr>\n",
       "      <th>42</th>\n",
       "      <td>South Dakota</td>\n",
       "      <td>3%</td>\n",
       "      <td>633</td>\n",
       "      <td>635</td>\n",
       "      <td>1268</td>\n",
       "    </tr>\n",
       "    <tr>\n",
       "      <th>43</th>\n",
       "      <td>Tennessee</td>\n",
       "      <td>7%</td>\n",
       "      <td>618</td>\n",
       "      <td>602</td>\n",
       "      <td>1220</td>\n",
       "    </tr>\n",
       "    <tr>\n",
       "      <th>44</th>\n",
       "      <td>Texas</td>\n",
       "      <td>68%</td>\n",
       "      <td>515</td>\n",
       "      <td>507</td>\n",
       "      <td>1022</td>\n",
       "    </tr>\n",
       "    <tr>\n",
       "      <th>45</th>\n",
       "      <td>Utah</td>\n",
       "      <td>4%</td>\n",
       "      <td>614</td>\n",
       "      <td>615</td>\n",
       "      <td>1230</td>\n",
       "    </tr>\n",
       "    <tr>\n",
       "      <th>46</th>\n",
       "      <td>Vermont</td>\n",
       "      <td>66%</td>\n",
       "      <td>560</td>\n",
       "      <td>546</td>\n",
       "      <td>1106</td>\n",
       "    </tr>\n",
       "    <tr>\n",
       "      <th>47</th>\n",
       "      <td>Virgin Islands</td>\n",
       "      <td>—</td>\n",
       "      <td>490</td>\n",
       "      <td>445</td>\n",
       "      <td>935</td>\n",
       "    </tr>\n",
       "    <tr>\n",
       "      <th>48</th>\n",
       "      <td>Virginia</td>\n",
       "      <td>68%</td>\n",
       "      <td>567</td>\n",
       "      <td>551</td>\n",
       "      <td>1119</td>\n",
       "    </tr>\n",
       "    <tr>\n",
       "      <th>49</th>\n",
       "      <td>Washington</td>\n",
       "      <td>70%</td>\n",
       "      <td>539</td>\n",
       "      <td>535</td>\n",
       "      <td>1074</td>\n",
       "    </tr>\n",
       "    <tr>\n",
       "      <th>50</th>\n",
       "      <td>West Virginia</td>\n",
       "      <td>99%</td>\n",
       "      <td>483</td>\n",
       "      <td>460</td>\n",
       "      <td>943</td>\n",
       "    </tr>\n",
       "    <tr>\n",
       "      <th>51</th>\n",
       "      <td>Wisconsin</td>\n",
       "      <td>3%</td>\n",
       "      <td>635</td>\n",
       "      <td>648</td>\n",
       "      <td>1283</td>\n",
       "    </tr>\n",
       "    <tr>\n",
       "      <th>52</th>\n",
       "      <td>Wyoming</td>\n",
       "      <td>3%</td>\n",
       "      <td>623</td>\n",
       "      <td>615</td>\n",
       "      <td>1238</td>\n",
       "    </tr>\n",
       "  </tbody>\n",
       "</table>\n",
       "</div>"
      ],
      "text/plain": [
       "                   State Participation Rate  EBRW  Math  Total\n",
       "0                Alabama                 7%   583   560   1143\n",
       "1                 Alaska                41%   556   541   1097\n",
       "2                Arizona                31%   569   565   1134\n",
       "3               Arkansas                 6%   582   559   1141\n",
       "4             California                63%   534   531   1065\n",
       "5               Colorado               100%   518   506   1024\n",
       "6            Connecticut               100%   529   516   1046\n",
       "7               Delaware               100%   499   486    985\n",
       "8   District of Columbia                94%   495   480    975\n",
       "9                Florida               100%   516   483    999\n",
       "10               Georgia                71%   538   519   1058\n",
       "11                Hawaii                54%   550   550   1100\n",
       "12                 Idaho               100%   505   488    993\n",
       "13              Illinois               100%   509   504   1013\n",
       "14               Indiana                66%   543   537   1080\n",
       "15                  Iowa                 3%   622   622   1244\n",
       "16                Kansas                 4%   618   623   1241\n",
       "17              Kentucky                 4%   620   612   1232\n",
       "18             Louisiana                 5%   610   591   1200\n",
       "19                 Maine                99%   512   502   1013\n",
       "20              Maryland                82%   535   523   1058\n",
       "21         Massachusetts                81%   559   561   1120\n",
       "22              Michigan               100%   507   496   1003\n",
       "23             Minnesota                 4%   636   648   1284\n",
       "24           Mississippi                 3%   628   608   1237\n",
       "25              Missouri                 4%   622   615   1236\n",
       "26               Montana                 9%   603   596   1199\n",
       "27              Nebraska                 3%   628   631   1260\n",
       "28                Nevada                20%   580   576   1156\n",
       "29         New Hampshire                95%   533   526   1059\n",
       "30            New Jersey                82%   544   545   1090\n",
       "31            New Mexico                18%   543   530   1073\n",
       "32              New York                79%   531   533   1064\n",
       "33        North Carolina                51%   554   546   1100\n",
       "34          North Dakota                 2%   627   636   1263\n",
       "35                  Ohio                19%   550   548   1097\n",
       "36              Oklahoma                22%   490   472    963\n",
       "37                Oregon                51%   562   550   1112\n",
       "38          Pennsylvania                70%   545   537   1082\n",
       "39           Puerto Rico                  —   483   462    944\n",
       "40          Rhode Island               100%   503   492    995\n",
       "41        South Carolina                68%   526   504   1030\n",
       "42          South Dakota                 3%   633   635   1268\n",
       "43             Tennessee                 7%   618   602   1220\n",
       "44                 Texas                68%   515   507   1022\n",
       "45                  Utah                 4%   614   615   1230\n",
       "46               Vermont                66%   560   546   1106\n",
       "47        Virgin Islands                  —   490   445    935\n",
       "48              Virginia                68%   567   551   1119\n",
       "49            Washington                70%   539   535   1074\n",
       "50         West Virginia                99%   483   460    943\n",
       "51             Wisconsin                 3%   635   648   1283\n",
       "52               Wyoming                 3%   623   615   1238"
      ]
     },
     "execution_count": 17,
     "metadata": {},
     "output_type": "execute_result"
    }
   ],
   "source": [
    "sat_2019"
   ]
  },
  {
   "cell_type": "code",
   "execution_count": 18,
   "metadata": {},
   "outputs": [],
   "source": [
    "# convert %strings to float; function will replace '—' with np.nan\n",
    "sat_2019['Participation Rate'] = sat_2019['Participation Rate'].map(percent_to_decimal)"
   ]
  },
  {
   "cell_type": "code",
   "execution_count": 19,
   "metadata": {},
   "outputs": [
    {
     "name": "stdout",
     "output_type": "stream",
     "text": [
      "<class 'pandas.core.frame.DataFrame'>\n",
      "RangeIndex: 53 entries, 0 to 52\n",
      "Data columns (total 5 columns):\n",
      " #   Column              Non-Null Count  Dtype  \n",
      "---  ------              --------------  -----  \n",
      " 0   State               53 non-null     object \n",
      " 1   Participation Rate  51 non-null     float64\n",
      " 2   EBRW                53 non-null     int64  \n",
      " 3   Math                53 non-null     int64  \n",
      " 4   Total               53 non-null     int64  \n",
      "dtypes: float64(1), int64(3), object(1)\n",
      "memory usage: 2.2+ KB\n"
     ]
    }
   ],
   "source": [
    "# check dtype of converted column\n",
    "sat_2019.info()"
   ]
  },
  {
   "cell_type": "code",
   "execution_count": 20,
   "metadata": {},
   "outputs": [
    {
     "name": "stdout",
     "output_type": "stream",
     "text": [
      "lowest SAT participation rate is 0.02, highest SAT particpation rate is 1.0\n",
      "lowest SAT total score is 935, highest SAT total score is 1284\n"
     ]
    }
   ],
   "source": [
    "# check if values are within expected range\n",
    "print(f\"lowest SAT participation rate is {sat_2019['Participation Rate'].min()}, highest SAT particpation rate is {sat_2019['Participation Rate'].max()}\")\n",
    "print(f\"lowest SAT total score is {sat_2019['Total'].min()}, highest SAT total score is {sat_2019['Total'].max()}\")"
   ]
  },
  {
   "cell_type": "code",
   "execution_count": 21,
   "metadata": {},
   "outputs": [],
   "source": [
    "# rename columns\n",
    "sat_2019.rename(columns={\n",
    "    'State': 'state',\n",
    "    'Participation Rate': 'sat_participation',\n",
    "    'EBRW': 'sat_ebrw',\n",
    "    'Math': 'sat_math',\n",
    "    'Total': 'sat_total_score'\n",
    "}, inplace=True)"
   ]
  },
  {
   "cell_type": "code",
   "execution_count": 22,
   "metadata": {},
   "outputs": [
    {
     "data": {
      "text/html": [
       "<div>\n",
       "<style scoped>\n",
       "    .dataframe tbody tr th:only-of-type {\n",
       "        vertical-align: middle;\n",
       "    }\n",
       "\n",
       "    .dataframe tbody tr th {\n",
       "        vertical-align: top;\n",
       "    }\n",
       "\n",
       "    .dataframe thead th {\n",
       "        text-align: right;\n",
       "    }\n",
       "</style>\n",
       "<table border=\"1\" class=\"dataframe\">\n",
       "  <thead>\n",
       "    <tr style=\"text-align: right;\">\n",
       "      <th></th>\n",
       "      <th>state</th>\n",
       "      <th>sat_participation</th>\n",
       "      <th>sat_ebrw</th>\n",
       "      <th>sat_math</th>\n",
       "      <th>sat_total_score</th>\n",
       "    </tr>\n",
       "  </thead>\n",
       "  <tbody>\n",
       "    <tr>\n",
       "      <th>0</th>\n",
       "      <td>Alabama</td>\n",
       "      <td>0.07</td>\n",
       "      <td>583</td>\n",
       "      <td>560</td>\n",
       "      <td>1143</td>\n",
       "    </tr>\n",
       "    <tr>\n",
       "      <th>1</th>\n",
       "      <td>Alaska</td>\n",
       "      <td>0.41</td>\n",
       "      <td>556</td>\n",
       "      <td>541</td>\n",
       "      <td>1097</td>\n",
       "    </tr>\n",
       "    <tr>\n",
       "      <th>2</th>\n",
       "      <td>Arizona</td>\n",
       "      <td>0.31</td>\n",
       "      <td>569</td>\n",
       "      <td>565</td>\n",
       "      <td>1134</td>\n",
       "    </tr>\n",
       "    <tr>\n",
       "      <th>3</th>\n",
       "      <td>Arkansas</td>\n",
       "      <td>0.06</td>\n",
       "      <td>582</td>\n",
       "      <td>559</td>\n",
       "      <td>1141</td>\n",
       "    </tr>\n",
       "    <tr>\n",
       "      <th>4</th>\n",
       "      <td>California</td>\n",
       "      <td>0.63</td>\n",
       "      <td>534</td>\n",
       "      <td>531</td>\n",
       "      <td>1065</td>\n",
       "    </tr>\n",
       "  </tbody>\n",
       "</table>\n",
       "</div>"
      ],
      "text/plain": [
       "        state  sat_participation  sat_ebrw  sat_math  sat_total_score\n",
       "0     Alabama               0.07       583       560             1143\n",
       "1      Alaska               0.41       556       541             1097\n",
       "2     Arizona               0.31       569       565             1134\n",
       "3    Arkansas               0.06       582       559             1141\n",
       "4  California               0.63       534       531             1065"
      ]
     },
     "execution_count": 22,
     "metadata": {},
     "output_type": "execute_result"
    }
   ],
   "source": [
    "sat_2019.head()"
   ]
  },
  {
   "cell_type": "code",
   "execution_count": 23,
   "metadata": {},
   "outputs": [
    {
     "data": {
      "text/html": [
       "<div>\n",
       "<style scoped>\n",
       "    .dataframe tbody tr th:only-of-type {\n",
       "        vertical-align: middle;\n",
       "    }\n",
       "\n",
       "    .dataframe tbody tr th {\n",
       "        vertical-align: top;\n",
       "    }\n",
       "\n",
       "    .dataframe thead th {\n",
       "        text-align: right;\n",
       "    }\n",
       "</style>\n",
       "<table border=\"1\" class=\"dataframe\">\n",
       "  <thead>\n",
       "    <tr style=\"text-align: right;\">\n",
       "      <th></th>\n",
       "      <th>State</th>\n",
       "      <th>Median household income (dollars)</th>\n",
       "      <th>Median family income (dollars)</th>\n",
       "      <th>Per capita income (dollars)</th>\n",
       "    </tr>\n",
       "  </thead>\n",
       "  <tbody>\n",
       "    <tr>\n",
       "      <th>0</th>\n",
       "      <td>Alabama</td>\n",
       "      <td>50,536</td>\n",
       "      <td>64,430</td>\n",
       "      <td>27,928</td>\n",
       "    </tr>\n",
       "    <tr>\n",
       "      <th>1</th>\n",
       "      <td>Alaska</td>\n",
       "      <td>77,640</td>\n",
       "      <td>92,588</td>\n",
       "      <td>36,787</td>\n",
       "    </tr>\n",
       "    <tr>\n",
       "      <th>2</th>\n",
       "      <td>Arizona</td>\n",
       "      <td>58,945</td>\n",
       "      <td>70,184</td>\n",
       "      <td>30,694</td>\n",
       "    </tr>\n",
       "    <tr>\n",
       "      <th>3</th>\n",
       "      <td>Arkansas</td>\n",
       "      <td>47,597</td>\n",
       "      <td>59,455</td>\n",
       "      <td>26,577</td>\n",
       "    </tr>\n",
       "    <tr>\n",
       "      <th>4</th>\n",
       "      <td>California</td>\n",
       "      <td>75,235</td>\n",
       "      <td>85,837</td>\n",
       "      <td>36,955</td>\n",
       "    </tr>\n",
       "  </tbody>\n",
       "</table>\n",
       "</div>"
      ],
      "text/plain": [
       "        State Median household income (dollars)  \\\n",
       "0     Alabama                            50,536   \n",
       "1      Alaska                            77,640   \n",
       "2     Arizona                            58,945   \n",
       "3    Arkansas                            47,597   \n",
       "4  California                            75,235   \n",
       "\n",
       "  Median family income (dollars) Per capita income (dollars)  \n",
       "0                         64,430                      27,928  \n",
       "1                         92,588                      36,787  \n",
       "2                         70,184                      30,694  \n",
       "3                         59,455                      26,577  \n",
       "4                         85,837                      36,955  "
      ]
     },
     "execution_count": 23,
     "metadata": {},
     "output_type": "execute_result"
    }
   ],
   "source": [
    "# display the data\n",
    "income_2019.head()"
   ]
  },
  {
   "cell_type": "code",
   "execution_count": 24,
   "metadata": {},
   "outputs": [
    {
     "data": {
      "text/plain": [
       "State                                0\n",
       "Median household income (dollars)    0\n",
       "Median family income (dollars)       0\n",
       "Per capita income (dollars)          0\n",
       "dtype: int64"
      ]
     },
     "execution_count": 24,
     "metadata": {},
     "output_type": "execute_result"
    }
   ],
   "source": [
    "# find if any null values\n",
    "income_2019.isnull().sum()"
   ]
  },
  {
   "cell_type": "code",
   "execution_count": 25,
   "metadata": {},
   "outputs": [
    {
     "name": "stdout",
     "output_type": "stream",
     "text": [
      "<class 'pandas.core.frame.DataFrame'>\n",
      "RangeIndex: 52 entries, 0 to 51\n",
      "Data columns (total 4 columns):\n",
      " #   Column                             Non-Null Count  Dtype \n",
      "---  ------                             --------------  ----- \n",
      " 0   State                              52 non-null     object\n",
      " 1   Median household income (dollars)  52 non-null     object\n",
      " 2   Median family income (dollars)     52 non-null     object\n",
      " 3   Per capita income (dollars)        52 non-null     object\n",
      "dtypes: object(4)\n",
      "memory usage: 1.8+ KB\n"
     ]
    }
   ],
   "source": [
    "# check dtype and missing values\n",
    "income_2019.info()"
   ]
  },
  {
   "cell_type": "code",
   "execution_count": 26,
   "metadata": {},
   "outputs": [],
   "source": [
    "# remove commas from data and convert to int\n",
    "def str_to_int(value):\n",
    "    try:\n",
    "        value = int(value.replace(',',\"\"))\n",
    "        return value\n",
    "    except:\n",
    "        return value\n",
    "\n",
    "income_2019['Median household income (dollars)'] = income_2019['Median household income (dollars)'].map(str_to_int)\n",
    "income_2019['Median family income (dollars)'] = income_2019['Median family income (dollars)'].map(str_to_int)\n",
    "income_2019['Per capita income (dollars)'] = income_2019['Per capita income (dollars)'].map(str_to_int)"
   ]
  },
  {
   "cell_type": "code",
   "execution_count": 27,
   "metadata": {},
   "outputs": [
    {
     "name": "stdout",
     "output_type": "stream",
     "text": [
      "<class 'pandas.core.frame.DataFrame'>\n",
      "RangeIndex: 52 entries, 0 to 51\n",
      "Data columns (total 4 columns):\n",
      " #   Column                             Non-Null Count  Dtype \n",
      "---  ------                             --------------  ----- \n",
      " 0   State                              52 non-null     object\n",
      " 1   Median household income (dollars)  52 non-null     int64 \n",
      " 2   Median family income (dollars)     52 non-null     int64 \n",
      " 3   Per capita income (dollars)        52 non-null     int64 \n",
      "dtypes: int64(3), object(1)\n",
      "memory usage: 1.8+ KB\n"
     ]
    }
   ],
   "source": [
    "income_2019.info()"
   ]
  },
  {
   "cell_type": "code",
   "execution_count": 28,
   "metadata": {},
   "outputs": [],
   "source": [
    "# rename columns\n",
    "income_2019.rename(columns={\n",
    "    'State': 'state',\n",
    "    'Median household income (dollars)': 'median_household_income',\n",
    "    'Median family income (dollars)': 'median_family_income',\n",
    "    'Per capita income (dollars)': 'per_capita_income'\n",
    "}, inplace=True)"
   ]
  },
  {
   "cell_type": "code",
   "execution_count": 29,
   "metadata": {},
   "outputs": [
    {
     "data": {
      "text/html": [
       "<div>\n",
       "<style scoped>\n",
       "    .dataframe tbody tr th:only-of-type {\n",
       "        vertical-align: middle;\n",
       "    }\n",
       "\n",
       "    .dataframe tbody tr th {\n",
       "        vertical-align: top;\n",
       "    }\n",
       "\n",
       "    .dataframe thead th {\n",
       "        text-align: right;\n",
       "    }\n",
       "</style>\n",
       "<table border=\"1\" class=\"dataframe\">\n",
       "  <thead>\n",
       "    <tr style=\"text-align: right;\">\n",
       "      <th></th>\n",
       "      <th>state</th>\n",
       "      <th>median_household_income</th>\n",
       "      <th>median_family_income</th>\n",
       "      <th>per_capita_income</th>\n",
       "    </tr>\n",
       "  </thead>\n",
       "  <tbody>\n",
       "    <tr>\n",
       "      <th>0</th>\n",
       "      <td>Alabama</td>\n",
       "      <td>50536</td>\n",
       "      <td>64430</td>\n",
       "      <td>27928</td>\n",
       "    </tr>\n",
       "    <tr>\n",
       "      <th>1</th>\n",
       "      <td>Alaska</td>\n",
       "      <td>77640</td>\n",
       "      <td>92588</td>\n",
       "      <td>36787</td>\n",
       "    </tr>\n",
       "    <tr>\n",
       "      <th>2</th>\n",
       "      <td>Arizona</td>\n",
       "      <td>58945</td>\n",
       "      <td>70184</td>\n",
       "      <td>30694</td>\n",
       "    </tr>\n",
       "    <tr>\n",
       "      <th>3</th>\n",
       "      <td>Arkansas</td>\n",
       "      <td>47597</td>\n",
       "      <td>59455</td>\n",
       "      <td>26577</td>\n",
       "    </tr>\n",
       "    <tr>\n",
       "      <th>4</th>\n",
       "      <td>California</td>\n",
       "      <td>75235</td>\n",
       "      <td>85837</td>\n",
       "      <td>36955</td>\n",
       "    </tr>\n",
       "  </tbody>\n",
       "</table>\n",
       "</div>"
      ],
      "text/plain": [
       "        state  median_household_income  median_family_income  \\\n",
       "0     Alabama                    50536                 64430   \n",
       "1      Alaska                    77640                 92588   \n",
       "2     Arizona                    58945                 70184   \n",
       "3    Arkansas                    47597                 59455   \n",
       "4  California                    75235                 85837   \n",
       "\n",
       "   per_capita_income  \n",
       "0              27928  \n",
       "1              36787  \n",
       "2              30694  \n",
       "3              26577  \n",
       "4              36955  "
      ]
     },
     "execution_count": 29,
     "metadata": {},
     "output_type": "execute_result"
    }
   ],
   "source": [
    "income_2019.head()"
   ]
  },
  {
   "cell_type": "code",
   "execution_count": 30,
   "metadata": {},
   "outputs": [],
   "source": [
    "# merge the datasets based on US census states\n",
    "# inner join used to only include US census states and remove states with missing values\n",
    "\n",
    "merged = pd.merge(income_2019, act_2019, on='state', how='inner')\n",
    "merged = pd.merge(merged, sat_2019, on='state', how='inner')"
   ]
  },
  {
   "cell_type": "code",
   "execution_count": 31,
   "metadata": {},
   "outputs": [],
   "source": [
    "merged.drop('median_household_income', axis = 1, inplace = True)"
   ]
  },
  {
   "cell_type": "code",
   "execution_count": 32,
   "metadata": {},
   "outputs": [
    {
     "name": "stdout",
     "output_type": "stream",
     "text": [
      "<class 'pandas.core.frame.DataFrame'>\n",
      "Int64Index: 51 entries, 0 to 50\n",
      "Data columns (total 9 columns):\n",
      " #   Column                Non-Null Count  Dtype  \n",
      "---  ------                --------------  -----  \n",
      " 0   state                 51 non-null     object \n",
      " 1   median_family_income  51 non-null     int64  \n",
      " 2   per_capita_income     51 non-null     int64  \n",
      " 3   act_participation     51 non-null     float64\n",
      " 4   act_composite_score   51 non-null     float64\n",
      " 5   sat_participation     51 non-null     float64\n",
      " 6   sat_ebrw              51 non-null     int64  \n",
      " 7   sat_math              51 non-null     int64  \n",
      " 8   sat_total_score       51 non-null     int64  \n",
      "dtypes: float64(3), int64(5), object(1)\n",
      "memory usage: 4.0+ KB\n"
     ]
    }
   ],
   "source": [
    "merged.info()"
   ]
  },
  {
   "cell_type": "code",
   "execution_count": 33,
   "metadata": {},
   "outputs": [],
   "source": [
    "# Save cleaned and merged dataframes as a csv file.\n",
    "merged.to_csv('data/state_income_act_sat.csv', index=False)"
   ]
  },
  {
   "cell_type": "markdown",
   "metadata": {},
   "source": [
    "### Data Dictionary\n",
    "\n",
    "Now that we've fixed our data, and given it appropriate names, let's create a [data dictionary](http://library.ucmerced.edu/node/10249). \n",
    "\n",
    "A data dictionary provides a quick overview of features/variables/columns, alongside data types and descriptions. The more descriptive you can be, the more useful this document is.\n",
    "\n",
    "Example of a Fictional Data Dictionary Entry: \n",
    "\n",
    "|Feature|Type|Dataset|Description|\n",
    "|---|---|---|---|\n",
    "|**county_pop**|*integer*|2010 census|The population of the county (units in thousands, where 2.5 represents 2500 people).| \n",
    "|**per_poverty**|*float*|2010 census|The percent of the county over the age of 18 living below the 200% of official US poverty rate (units percent to two decimal places 98.10 means 98.1%)|\n",
    "\n",
    "[Here's a quick link to a short guide for formatting markdown in Jupyter notebooks](https://jupyter-notebook.readthedocs.io/en/stable/examples/Notebook/Working%20With%20Markdown%20Cells.html).\n",
    "\n",
    "Provided is the skeleton for formatting a markdown table, with columns headers that will help you create a data dictionary to quickly summarize your data, as well as some examples. **This would be a great thing to copy and paste into your custom README for this project.**\n",
    "\n",
    "*Note*: if you are unsure of what a feature is, check the source of the data! This can be found in the README."
   ]
  },
  {
   "cell_type": "markdown",
   "metadata": {},
   "source": [
    "**To-Do:** *Edit the table below to create your own data dictionary for the datasets you chose.*\n",
    "\n",
    "|Feature|Type|Dataset|Description|\n",
    "|---|---|---|---|\n",
    "|**state**|*string*|merged|A US state|\n",
    "|**median_family_income**|*integer*|merged|Median income of families| \n",
    "|**per_capita_income**|*integer*|merged|Median per capita income| \n",
    "|**act_participation**|*float*|merged|Percentage of high school students who took the ACT| \n",
    "|**act_composite_score**|*float*|merged|Composite score for ACT; Average of all the tests|\n",
    "|**sat_participation**|*float*|merged|Percentage of high school students who took the SAT|\n",
    "|**sat_total_score**|*float*|merged|Total SAT score; sum of math and ebrw tests|\n",
    "|**sat_ebrw**|*float*|merged|Score for SAT ebrw test|\n",
    "|**sat_math**|*float*|merged|Score for SAT math test|"
   ]
  },
  {
   "cell_type": "markdown",
   "metadata": {},
   "source": [
    "## Exploratory Data Analysis\n",
    "\n",
    "Complete the following steps to explore your data. You are welcome to do more EDA than the steps outlined here as you feel necessary:\n",
    "1. Summary Statistics.\n",
    "2. Use a **dictionary comprehension** to apply the standard deviation function you create in part 1 to each numeric column in the dataframe.  **No loops**.\n",
    "    - Assign the output to variable `sd` as a dictionary where: \n",
    "        - Each column name is now a key \n",
    "        - That standard deviation of the column is the value \n",
    "        - *Example Output :* `{'ACT_Math': 120, 'ACT_Reading': 120, ...}`\n",
    "3. Investigate trends in the data.\n",
    "    - Using sorting and/or masking (along with the `.head()` method to avoid printing our entire dataframe), consider questions relevant to your problem statement. Some examples are provided below (but feel free to change these questions for your specific problem):\n",
    "        - Which states have the highest and lowest participation rates for the 2017, 2019, or 2019 SAT and ACT?\n",
    "        - Which states have the highest and lowest mean total/composite scores for the 2017, 2019, or 2019 SAT and ACT?\n",
    "        - Do any states with 100% participation on a given test have a rate change year-to-year?\n",
    "        - Do any states show have >50% participation on *both* tests each year?\n",
    "        - Which colleges have the highest median SAT and ACT scores for admittance?\n",
    "        - Which California school districts have the highest and lowest mean test scores?\n",
    "    - **You should comment on your findings at each step in a markdown cell below your code block**. Make sure you include at least one example of sorting your dataframe by a column, and one example of using boolean filtering (i.e., masking) to select a subset of the dataframe."
   ]
  },
  {
   "cell_type": "code",
   "execution_count": 34,
   "metadata": {},
   "outputs": [
    {
     "data": {
      "text/html": [
       "<div>\n",
       "<style scoped>\n",
       "    .dataframe tbody tr th:only-of-type {\n",
       "        vertical-align: middle;\n",
       "    }\n",
       "\n",
       "    .dataframe tbody tr th {\n",
       "        vertical-align: top;\n",
       "    }\n",
       "\n",
       "    .dataframe thead th {\n",
       "        text-align: right;\n",
       "    }\n",
       "</style>\n",
       "<table border=\"1\" class=\"dataframe\">\n",
       "  <thead>\n",
       "    <tr style=\"text-align: right;\">\n",
       "      <th></th>\n",
       "      <th>count</th>\n",
       "      <th>mean</th>\n",
       "      <th>std</th>\n",
       "      <th>min</th>\n",
       "      <th>25%</th>\n",
       "      <th>50%</th>\n",
       "      <th>75%</th>\n",
       "      <th>max</th>\n",
       "    </tr>\n",
       "  </thead>\n",
       "  <tbody>\n",
       "    <tr>\n",
       "      <th>median_family_income</th>\n",
       "      <td>51.0</td>\n",
       "      <td>78495.098039</td>\n",
       "      <td>12961.948467</td>\n",
       "      <td>57008.00</td>\n",
       "      <td>69309.500</td>\n",
       "      <td>76946.00</td>\n",
       "      <td>86253.50</td>\n",
       "      <td>113561.0</td>\n",
       "    </tr>\n",
       "    <tr>\n",
       "      <th>per_capita_income</th>\n",
       "      <td>51.0</td>\n",
       "      <td>33743.058824</td>\n",
       "      <td>5689.577086</td>\n",
       "      <td>24369.00</td>\n",
       "      <td>30276.500</td>\n",
       "      <td>32176.00</td>\n",
       "      <td>36454.00</td>\n",
       "      <td>56147.0</td>\n",
       "    </tr>\n",
       "    <tr>\n",
       "      <th>act_participation</th>\n",
       "      <td>51.0</td>\n",
       "      <td>0.586667</td>\n",
       "      <td>0.345159</td>\n",
       "      <td>0.06</td>\n",
       "      <td>0.245</td>\n",
       "      <td>0.54</td>\n",
       "      <td>1.00</td>\n",
       "      <td>1.0</td>\n",
       "    </tr>\n",
       "    <tr>\n",
       "      <th>act_composite_score</th>\n",
       "      <td>51.0</td>\n",
       "      <td>21.464706</td>\n",
       "      <td>2.194523</td>\n",
       "      <td>17.90</td>\n",
       "      <td>19.800</td>\n",
       "      <td>21.10</td>\n",
       "      <td>23.70</td>\n",
       "      <td>25.5</td>\n",
       "    </tr>\n",
       "    <tr>\n",
       "      <th>sat_participation</th>\n",
       "      <td>51.0</td>\n",
       "      <td>0.490588</td>\n",
       "      <td>0.387476</td>\n",
       "      <td>0.02</td>\n",
       "      <td>0.055</td>\n",
       "      <td>0.54</td>\n",
       "      <td>0.82</td>\n",
       "      <td>1.0</td>\n",
       "    </tr>\n",
       "    <tr>\n",
       "      <th>sat_ebrw</th>\n",
       "      <td>51.0</td>\n",
       "      <td>560.803922</td>\n",
       "      <td>46.248035</td>\n",
       "      <td>483.00</td>\n",
       "      <td>527.500</td>\n",
       "      <td>550.00</td>\n",
       "      <td>612.00</td>\n",
       "      <td>636.0</td>\n",
       "    </tr>\n",
       "    <tr>\n",
       "      <th>sat_math</th>\n",
       "      <td>51.0</td>\n",
       "      <td>552.196078</td>\n",
       "      <td>51.290553</td>\n",
       "      <td>460.00</td>\n",
       "      <td>511.500</td>\n",
       "      <td>546.00</td>\n",
       "      <td>599.00</td>\n",
       "      <td>648.0</td>\n",
       "    </tr>\n",
       "    <tr>\n",
       "      <th>sat_total_score</th>\n",
       "      <td>51.0</td>\n",
       "      <td>1113.078431</td>\n",
       "      <td>97.197910</td>\n",
       "      <td>943.00</td>\n",
       "      <td>1038.000</td>\n",
       "      <td>1097.00</td>\n",
       "      <td>1210.00</td>\n",
       "      <td>1284.0</td>\n",
       "    </tr>\n",
       "  </tbody>\n",
       "</table>\n",
       "</div>"
      ],
      "text/plain": [
       "                      count          mean           std       min        25%  \\\n",
       "median_family_income   51.0  78495.098039  12961.948467  57008.00  69309.500   \n",
       "per_capita_income      51.0  33743.058824   5689.577086  24369.00  30276.500   \n",
       "act_participation      51.0      0.586667      0.345159      0.06      0.245   \n",
       "act_composite_score    51.0     21.464706      2.194523     17.90     19.800   \n",
       "sat_participation      51.0      0.490588      0.387476      0.02      0.055   \n",
       "sat_ebrw               51.0    560.803922     46.248035    483.00    527.500   \n",
       "sat_math               51.0    552.196078     51.290553    460.00    511.500   \n",
       "sat_total_score        51.0   1113.078431     97.197910    943.00   1038.000   \n",
       "\n",
       "                           50%       75%       max  \n",
       "median_family_income  76946.00  86253.50  113561.0  \n",
       "per_capita_income     32176.00  36454.00   56147.0  \n",
       "act_participation         0.54      1.00       1.0  \n",
       "act_composite_score      21.10     23.70      25.5  \n",
       "sat_participation         0.54      0.82       1.0  \n",
       "sat_ebrw                550.00    612.00     636.0  \n",
       "sat_math                546.00    599.00     648.0  \n",
       "sat_total_score        1097.00   1210.00    1284.0  "
      ]
     },
     "execution_count": 34,
     "metadata": {},
     "output_type": "execute_result"
    }
   ],
   "source": [
    "merged.describe().T"
   ]
  },
  {
   "cell_type": "code",
   "execution_count": 35,
   "metadata": {},
   "outputs": [
    {
     "data": {
      "text/plain": [
       "{'median_family_income': 12834.24142637142,\n",
       " 'per_capita_income': 5633.520772186558,\n",
       " 'act_participation': 0.3417582373703047,\n",
       " 'act_composite_score': 2.172901153595978,\n",
       " 'sat_participation': 0.3836584048685726,\n",
       " 'sat_ebrw': 45.792378682545134,\n",
       " 'sat_math': 50.78521461840036,\n",
       " 'sat_total_score': 96.24027185617864}"
      ]
     },
     "execution_count": 35,
     "metadata": {},
     "output_type": "execute_result"
    }
   ],
   "source": [
    "# sd using function created in [2]\n",
    "sd = {col: std_dev(merged[col]) for col in merged.columns[1:]}\n",
    "sd"
   ]
  },
  {
   "cell_type": "code",
   "execution_count": 36,
   "metadata": {},
   "outputs": [
    {
     "data": {
      "text/plain": [
       "{'median_family_income': 12834.24142637142,\n",
       " 'per_capita_income': 5633.520772186558,\n",
       " 'act_participation': 0.3417582373703047,\n",
       " 'act_composite_score': 2.172901153595978,\n",
       " 'sat_participation': 0.3836584048685726,\n",
       " 'sat_ebrw': 45.792378682545134,\n",
       " 'sat_math': 50.78521461840036,\n",
       " 'sat_total_score': 96.24027185617864}"
      ]
     },
     "execution_count": 36,
     "metadata": {},
     "output_type": "execute_result"
    }
   ],
   "source": [
    "# sd using np.std function\n",
    "sd = {col: np.std(merged[col]) for col in merged.columns[1:]}\n",
    "sd"
   ]
  },
  {
   "cell_type": "code",
   "execution_count": 37,
   "metadata": {},
   "outputs": [
    {
     "data": {
      "text/html": [
       "<div>\n",
       "<style scoped>\n",
       "    .dataframe tbody tr th:only-of-type {\n",
       "        vertical-align: middle;\n",
       "    }\n",
       "\n",
       "    .dataframe tbody tr th {\n",
       "        vertical-align: top;\n",
       "    }\n",
       "\n",
       "    .dataframe thead th {\n",
       "        text-align: right;\n",
       "    }\n",
       "</style>\n",
       "<table border=\"1\" class=\"dataframe\">\n",
       "  <thead>\n",
       "    <tr style=\"text-align: right;\">\n",
       "      <th></th>\n",
       "      <th>state</th>\n",
       "      <th>median_family_income</th>\n",
       "      <th>act_composite_score</th>\n",
       "      <th>act_participation</th>\n",
       "    </tr>\n",
       "  </thead>\n",
       "  <tbody>\n",
       "    <tr>\n",
       "      <th>23</th>\n",
       "      <td>Minnesota</td>\n",
       "      <td>89842</td>\n",
       "      <td>21.4</td>\n",
       "      <td>0.95</td>\n",
       "    </tr>\n",
       "    <tr>\n",
       "      <th>46</th>\n",
       "      <td>Virginia</td>\n",
       "      <td>90141</td>\n",
       "      <td>24.0</td>\n",
       "      <td>0.21</td>\n",
       "    </tr>\n",
       "    <tr>\n",
       "      <th>1</th>\n",
       "      <td>Alaska</td>\n",
       "      <td>92588</td>\n",
       "      <td>20.1</td>\n",
       "      <td>0.38</td>\n",
       "    </tr>\n",
       "    <tr>\n",
       "      <th>11</th>\n",
       "      <td>Hawaii</td>\n",
       "      <td>94982</td>\n",
       "      <td>19.0</td>\n",
       "      <td>0.80</td>\n",
       "    </tr>\n",
       "    <tr>\n",
       "      <th>29</th>\n",
       "      <td>New Hampshire</td>\n",
       "      <td>95244</td>\n",
       "      <td>25.0</td>\n",
       "      <td>0.14</td>\n",
       "    </tr>\n",
       "    <tr>\n",
       "      <th>6</th>\n",
       "      <td>Connecticut</td>\n",
       "      <td>100418</td>\n",
       "      <td>25.5</td>\n",
       "      <td>0.22</td>\n",
       "    </tr>\n",
       "    <tr>\n",
       "      <th>30</th>\n",
       "      <td>New Jersey</td>\n",
       "      <td>102260</td>\n",
       "      <td>24.2</td>\n",
       "      <td>0.25</td>\n",
       "    </tr>\n",
       "    <tr>\n",
       "      <th>20</th>\n",
       "      <td>Maryland</td>\n",
       "      <td>103108</td>\n",
       "      <td>22.3</td>\n",
       "      <td>0.28</td>\n",
       "    </tr>\n",
       "    <tr>\n",
       "      <th>21</th>\n",
       "      <td>Massachusetts</td>\n",
       "      <td>103126</td>\n",
       "      <td>25.5</td>\n",
       "      <td>0.21</td>\n",
       "    </tr>\n",
       "    <tr>\n",
       "      <th>8</th>\n",
       "      <td>District of Columbia</td>\n",
       "      <td>113561</td>\n",
       "      <td>23.5</td>\n",
       "      <td>0.32</td>\n",
       "    </tr>\n",
       "  </tbody>\n",
       "</table>\n",
       "</div>"
      ],
      "text/plain": [
       "                   state  median_family_income  act_composite_score  \\\n",
       "23             Minnesota                 89842                 21.4   \n",
       "46              Virginia                 90141                 24.0   \n",
       "1                 Alaska                 92588                 20.1   \n",
       "11                Hawaii                 94982                 19.0   \n",
       "29         New Hampshire                 95244                 25.0   \n",
       "6            Connecticut                100418                 25.5   \n",
       "30            New Jersey                102260                 24.2   \n",
       "20              Maryland                103108                 22.3   \n",
       "21         Massachusetts                103126                 25.5   \n",
       "8   District of Columbia                113561                 23.5   \n",
       "\n",
       "    act_participation  \n",
       "23               0.95  \n",
       "46               0.21  \n",
       "1                0.38  \n",
       "11               0.80  \n",
       "29               0.14  \n",
       "6                0.22  \n",
       "30               0.25  \n",
       "20               0.28  \n",
       "21               0.21  \n",
       "8                0.32  "
      ]
     },
     "execution_count": 37,
     "metadata": {},
     "output_type": "execute_result"
    }
   ],
   "source": [
    "# sort by median_family_income for act participation and act composite score\n",
    "merged[\n",
    "    ['state', \n",
    "     'median_family_income', \n",
    "     'act_composite_score', \n",
    "     'act_participation']\n",
    "    ].sort_values('median_family_income', ascending = True).tail(10)"
   ]
  },
  {
   "cell_type": "markdown",
   "metadata": {},
   "source": [
    "*Observations*: A preliminary glance at the sorted data reveals a possible trend between state median family income and ACT composite score.\n",
    "Lower participation rates might also be negatively correlated to higher scores, possibly due to bias. i.e. those who take the ACTs in these low participation states are confident of their abilities and reasons for attempting these tests, leading to better scores."
   ]
  },
  {
   "cell_type": "code",
   "execution_count": 38,
   "metadata": {},
   "outputs": [
    {
     "data": {
      "text/html": [
       "<div>\n",
       "<style scoped>\n",
       "    .dataframe tbody tr th:only-of-type {\n",
       "        vertical-align: middle;\n",
       "    }\n",
       "\n",
       "    .dataframe tbody tr th {\n",
       "        vertical-align: top;\n",
       "    }\n",
       "\n",
       "    .dataframe thead th {\n",
       "        text-align: right;\n",
       "    }\n",
       "</style>\n",
       "<table border=\"1\" class=\"dataframe\">\n",
       "  <thead>\n",
       "    <tr style=\"text-align: right;\">\n",
       "      <th></th>\n",
       "      <th>state</th>\n",
       "      <th>median_family_income</th>\n",
       "      <th>sat_total_score</th>\n",
       "      <th>sat_participation</th>\n",
       "    </tr>\n",
       "  </thead>\n",
       "  <tbody>\n",
       "    <tr>\n",
       "      <th>24</th>\n",
       "      <td>Mississippi</td>\n",
       "      <td>57008</td>\n",
       "      <td>1237</td>\n",
       "      <td>0.03</td>\n",
       "    </tr>\n",
       "    <tr>\n",
       "      <th>3</th>\n",
       "      <td>Arkansas</td>\n",
       "      <td>59455</td>\n",
       "      <td>1141</td>\n",
       "      <td>0.06</td>\n",
       "    </tr>\n",
       "    <tr>\n",
       "      <th>48</th>\n",
       "      <td>West Virginia</td>\n",
       "      <td>59607</td>\n",
       "      <td>943</td>\n",
       "      <td>0.99</td>\n",
       "    </tr>\n",
       "    <tr>\n",
       "      <th>31</th>\n",
       "      <td>New Mexico</td>\n",
       "      <td>61102</td>\n",
       "      <td>1073</td>\n",
       "      <td>0.18</td>\n",
       "    </tr>\n",
       "    <tr>\n",
       "      <th>18</th>\n",
       "      <td>Louisiana</td>\n",
       "      <td>63572</td>\n",
       "      <td>1200</td>\n",
       "      <td>0.05</td>\n",
       "    </tr>\n",
       "    <tr>\n",
       "      <th>17</th>\n",
       "      <td>Kentucky</td>\n",
       "      <td>63684</td>\n",
       "      <td>1232</td>\n",
       "      <td>0.04</td>\n",
       "    </tr>\n",
       "    <tr>\n",
       "      <th>0</th>\n",
       "      <td>Alabama</td>\n",
       "      <td>64430</td>\n",
       "      <td>1143</td>\n",
       "      <td>0.07</td>\n",
       "    </tr>\n",
       "    <tr>\n",
       "      <th>36</th>\n",
       "      <td>Oklahoma</td>\n",
       "      <td>65544</td>\n",
       "      <td>963</td>\n",
       "      <td>0.22</td>\n",
       "    </tr>\n",
       "    <tr>\n",
       "      <th>42</th>\n",
       "      <td>Tennessee</td>\n",
       "      <td>66242</td>\n",
       "      <td>1220</td>\n",
       "      <td>0.07</td>\n",
       "    </tr>\n",
       "    <tr>\n",
       "      <th>40</th>\n",
       "      <td>South Carolina</td>\n",
       "      <td>66357</td>\n",
       "      <td>1030</td>\n",
       "      <td>0.68</td>\n",
       "    </tr>\n",
       "  </tbody>\n",
       "</table>\n",
       "</div>"
      ],
      "text/plain": [
       "             state  median_family_income  sat_total_score  sat_participation\n",
       "24     Mississippi                 57008             1237               0.03\n",
       "3         Arkansas                 59455             1141               0.06\n",
       "48   West Virginia                 59607              943               0.99\n",
       "31      New Mexico                 61102             1073               0.18\n",
       "18       Louisiana                 63572             1200               0.05\n",
       "17        Kentucky                 63684             1232               0.04\n",
       "0          Alabama                 64430             1143               0.07\n",
       "36        Oklahoma                 65544              963               0.22\n",
       "42       Tennessee                 66242             1220               0.07\n",
       "40  South Carolina                 66357             1030               0.68"
      ]
     },
     "execution_count": 38,
     "metadata": {},
     "output_type": "execute_result"
    }
   ],
   "source": [
    "# sort by median family income for SAT participation and SAT total score\n",
    "merged[\n",
    "    ['state', \n",
    "     'median_family_income', \n",
    "     'sat_total_score', \n",
    "     'sat_participation']\n",
    "    ].sort_values('median_family_income', ascending = True).head(10)"
   ]
  },
  {
   "cell_type": "code",
   "execution_count": 39,
   "metadata": {},
   "outputs": [
    {
     "data": {
      "text/html": [
       "<div>\n",
       "<style scoped>\n",
       "    .dataframe tbody tr th:only-of-type {\n",
       "        vertical-align: middle;\n",
       "    }\n",
       "\n",
       "    .dataframe tbody tr th {\n",
       "        vertical-align: top;\n",
       "    }\n",
       "\n",
       "    .dataframe thead th {\n",
       "        text-align: right;\n",
       "    }\n",
       "</style>\n",
       "<table border=\"1\" class=\"dataframe\">\n",
       "  <thead>\n",
       "    <tr style=\"text-align: right;\">\n",
       "      <th></th>\n",
       "      <th>state</th>\n",
       "      <th>median_family_income</th>\n",
       "      <th>sat_total_score</th>\n",
       "      <th>sat_participation</th>\n",
       "    </tr>\n",
       "  </thead>\n",
       "  <tbody>\n",
       "    <tr>\n",
       "      <th>23</th>\n",
       "      <td>Minnesota</td>\n",
       "      <td>89842</td>\n",
       "      <td>1284</td>\n",
       "      <td>0.04</td>\n",
       "    </tr>\n",
       "    <tr>\n",
       "      <th>46</th>\n",
       "      <td>Virginia</td>\n",
       "      <td>90141</td>\n",
       "      <td>1119</td>\n",
       "      <td>0.68</td>\n",
       "    </tr>\n",
       "    <tr>\n",
       "      <th>1</th>\n",
       "      <td>Alaska</td>\n",
       "      <td>92588</td>\n",
       "      <td>1097</td>\n",
       "      <td>0.41</td>\n",
       "    </tr>\n",
       "    <tr>\n",
       "      <th>11</th>\n",
       "      <td>Hawaii</td>\n",
       "      <td>94982</td>\n",
       "      <td>1100</td>\n",
       "      <td>0.54</td>\n",
       "    </tr>\n",
       "    <tr>\n",
       "      <th>29</th>\n",
       "      <td>New Hampshire</td>\n",
       "      <td>95244</td>\n",
       "      <td>1059</td>\n",
       "      <td>0.95</td>\n",
       "    </tr>\n",
       "    <tr>\n",
       "      <th>6</th>\n",
       "      <td>Connecticut</td>\n",
       "      <td>100418</td>\n",
       "      <td>1046</td>\n",
       "      <td>1.00</td>\n",
       "    </tr>\n",
       "    <tr>\n",
       "      <th>30</th>\n",
       "      <td>New Jersey</td>\n",
       "      <td>102260</td>\n",
       "      <td>1090</td>\n",
       "      <td>0.82</td>\n",
       "    </tr>\n",
       "    <tr>\n",
       "      <th>20</th>\n",
       "      <td>Maryland</td>\n",
       "      <td>103108</td>\n",
       "      <td>1058</td>\n",
       "      <td>0.82</td>\n",
       "    </tr>\n",
       "    <tr>\n",
       "      <th>21</th>\n",
       "      <td>Massachusetts</td>\n",
       "      <td>103126</td>\n",
       "      <td>1120</td>\n",
       "      <td>0.81</td>\n",
       "    </tr>\n",
       "    <tr>\n",
       "      <th>8</th>\n",
       "      <td>District of Columbia</td>\n",
       "      <td>113561</td>\n",
       "      <td>975</td>\n",
       "      <td>0.94</td>\n",
       "    </tr>\n",
       "  </tbody>\n",
       "</table>\n",
       "</div>"
      ],
      "text/plain": [
       "                   state  median_family_income  sat_total_score  \\\n",
       "23             Minnesota                 89842             1284   \n",
       "46              Virginia                 90141             1119   \n",
       "1                 Alaska                 92588             1097   \n",
       "11                Hawaii                 94982             1100   \n",
       "29         New Hampshire                 95244             1059   \n",
       "6            Connecticut                100418             1046   \n",
       "30            New Jersey                102260             1090   \n",
       "20              Maryland                103108             1058   \n",
       "21         Massachusetts                103126             1120   \n",
       "8   District of Columbia                113561              975   \n",
       "\n",
       "    sat_participation  \n",
       "23               0.04  \n",
       "46               0.68  \n",
       "1                0.41  \n",
       "11               0.54  \n",
       "29               0.95  \n",
       "6                1.00  \n",
       "30               0.82  \n",
       "20               0.82  \n",
       "21               0.81  \n",
       "8                0.94  "
      ]
     },
     "execution_count": 39,
     "metadata": {},
     "output_type": "execute_result"
    }
   ],
   "source": [
    "merged[\n",
    "    ['state', \n",
    "     'median_family_income', \n",
    "     'sat_total_score', \n",
    "     'sat_participation']\n",
    "    ].sort_values('median_family_income', ascending = True).tail(10)"
   ]
  },
  {
   "cell_type": "markdown",
   "metadata": {},
   "source": [
    "*Observations*:\n",
    "No obvious trend can be seen between median family income and SAT total score, but once again lower participation rates seem to be negatively correlated with SAT total score. This is likely due to the same reasoning as with states with smaller ACT participation rates."
   ]
  },
  {
   "cell_type": "code",
   "execution_count": 40,
   "metadata": {},
   "outputs": [
    {
     "data": {
      "text/html": [
       "<div>\n",
       "<style scoped>\n",
       "    .dataframe tbody tr th:only-of-type {\n",
       "        vertical-align: middle;\n",
       "    }\n",
       "\n",
       "    .dataframe tbody tr th {\n",
       "        vertical-align: top;\n",
       "    }\n",
       "\n",
       "    .dataframe thead th {\n",
       "        text-align: right;\n",
       "    }\n",
       "</style>\n",
       "<table border=\"1\" class=\"dataframe\">\n",
       "  <thead>\n",
       "    <tr style=\"text-align: right;\">\n",
       "      <th></th>\n",
       "      <th>median_family_income</th>\n",
       "      <th>per_capita_income</th>\n",
       "      <th>act_participation</th>\n",
       "      <th>act_composite_score</th>\n",
       "      <th>sat_participation</th>\n",
       "      <th>sat_ebrw</th>\n",
       "      <th>sat_math</th>\n",
       "      <th>sat_total_score</th>\n",
       "    </tr>\n",
       "  </thead>\n",
       "  <tbody>\n",
       "    <tr>\n",
       "      <th>median_family_income</th>\n",
       "      <td>1.000000</td>\n",
       "      <td>0.946885</td>\n",
       "      <td>-0.512856</td>\n",
       "      <td>0.622663</td>\n",
       "      <td>0.410944</td>\n",
       "      <td>-0.188678</td>\n",
       "      <td>-0.098777</td>\n",
       "      <td>-0.141077</td>\n",
       "    </tr>\n",
       "    <tr>\n",
       "      <th>per_capita_income</th>\n",
       "      <td>0.946885</td>\n",
       "      <td>1.000000</td>\n",
       "      <td>-0.543232</td>\n",
       "      <td>0.645957</td>\n",
       "      <td>0.476671</td>\n",
       "      <td>-0.278694</td>\n",
       "      <td>-0.203574</td>\n",
       "      <td>-0.239504</td>\n",
       "    </tr>\n",
       "    <tr>\n",
       "      <th>act_participation</th>\n",
       "      <td>-0.512856</td>\n",
       "      <td>-0.543232</td>\n",
       "      <td>1.000000</td>\n",
       "      <td>-0.866819</td>\n",
       "      <td>-0.865435</td>\n",
       "      <td>0.688592</td>\n",
       "      <td>0.643101</td>\n",
       "      <td>0.666966</td>\n",
       "    </tr>\n",
       "    <tr>\n",
       "      <th>act_composite_score</th>\n",
       "      <td>0.622663</td>\n",
       "      <td>0.645957</td>\n",
       "      <td>-0.866819</td>\n",
       "      <td>1.000000</td>\n",
       "      <td>0.724619</td>\n",
       "      <td>-0.460065</td>\n",
       "      <td>-0.390668</td>\n",
       "      <td>-0.424782</td>\n",
       "    </tr>\n",
       "    <tr>\n",
       "      <th>sat_participation</th>\n",
       "      <td>0.410944</td>\n",
       "      <td>0.476671</td>\n",
       "      <td>-0.865435</td>\n",
       "      <td>0.724619</td>\n",
       "      <td>1.000000</td>\n",
       "      <td>-0.873453</td>\n",
       "      <td>-0.845841</td>\n",
       "      <td>-0.861786</td>\n",
       "    </tr>\n",
       "    <tr>\n",
       "      <th>sat_ebrw</th>\n",
       "      <td>-0.188678</td>\n",
       "      <td>-0.278694</td>\n",
       "      <td>0.688592</td>\n",
       "      <td>-0.460065</td>\n",
       "      <td>-0.873453</td>\n",
       "      <td>1.000000</td>\n",
       "      <td>0.986026</td>\n",
       "      <td>0.996134</td>\n",
       "    </tr>\n",
       "    <tr>\n",
       "      <th>sat_math</th>\n",
       "      <td>-0.098777</td>\n",
       "      <td>-0.203574</td>\n",
       "      <td>0.643101</td>\n",
       "      <td>-0.390668</td>\n",
       "      <td>-0.845841</td>\n",
       "      <td>0.986026</td>\n",
       "      <td>1.000000</td>\n",
       "      <td>0.996825</td>\n",
       "    </tr>\n",
       "    <tr>\n",
       "      <th>sat_total_score</th>\n",
       "      <td>-0.141077</td>\n",
       "      <td>-0.239504</td>\n",
       "      <td>0.666966</td>\n",
       "      <td>-0.424782</td>\n",
       "      <td>-0.861786</td>\n",
       "      <td>0.996134</td>\n",
       "      <td>0.996825</td>\n",
       "      <td>1.000000</td>\n",
       "    </tr>\n",
       "  </tbody>\n",
       "</table>\n",
       "</div>"
      ],
      "text/plain": [
       "                      median_family_income  per_capita_income  \\\n",
       "median_family_income              1.000000           0.946885   \n",
       "per_capita_income                 0.946885           1.000000   \n",
       "act_participation                -0.512856          -0.543232   \n",
       "act_composite_score               0.622663           0.645957   \n",
       "sat_participation                 0.410944           0.476671   \n",
       "sat_ebrw                         -0.188678          -0.278694   \n",
       "sat_math                         -0.098777          -0.203574   \n",
       "sat_total_score                  -0.141077          -0.239504   \n",
       "\n",
       "                      act_participation  act_composite_score  \\\n",
       "median_family_income          -0.512856             0.622663   \n",
       "per_capita_income             -0.543232             0.645957   \n",
       "act_participation              1.000000            -0.866819   \n",
       "act_composite_score           -0.866819             1.000000   \n",
       "sat_participation             -0.865435             0.724619   \n",
       "sat_ebrw                       0.688592            -0.460065   \n",
       "sat_math                       0.643101            -0.390668   \n",
       "sat_total_score                0.666966            -0.424782   \n",
       "\n",
       "                      sat_participation  sat_ebrw  sat_math  sat_total_score  \n",
       "median_family_income           0.410944 -0.188678 -0.098777        -0.141077  \n",
       "per_capita_income              0.476671 -0.278694 -0.203574        -0.239504  \n",
       "act_participation             -0.865435  0.688592  0.643101         0.666966  \n",
       "act_composite_score            0.724619 -0.460065 -0.390668        -0.424782  \n",
       "sat_participation              1.000000 -0.873453 -0.845841        -0.861786  \n",
       "sat_ebrw                      -0.873453  1.000000  0.986026         0.996134  \n",
       "sat_math                      -0.845841  0.986026  1.000000         0.996825  \n",
       "sat_total_score               -0.861786  0.996134  0.996825         1.000000  "
      ]
     },
     "execution_count": 40,
     "metadata": {},
     "output_type": "execute_result"
    }
   ],
   "source": [
    "# correlation matrix to further suss out trends\n",
    "merged.corr()"
   ]
  },
  {
   "cell_type": "markdown",
   "metadata": {},
   "source": [
    "*Observations*: Moderate negative correlation observed between median family income and ACT composite score which is in line with the trend seen earlier."
   ]
  },
  {
   "cell_type": "code",
   "execution_count": 41,
   "metadata": {},
   "outputs": [
    {
     "data": {
      "text/html": [
       "<div>\n",
       "<style scoped>\n",
       "    .dataframe tbody tr th:only-of-type {\n",
       "        vertical-align: middle;\n",
       "    }\n",
       "\n",
       "    .dataframe tbody tr th {\n",
       "        vertical-align: top;\n",
       "    }\n",
       "\n",
       "    .dataframe thead th {\n",
       "        text-align: right;\n",
       "    }\n",
       "</style>\n",
       "<table border=\"1\" class=\"dataframe\">\n",
       "  <thead>\n",
       "    <tr style=\"text-align: right;\">\n",
       "      <th></th>\n",
       "      <th>median_family_income</th>\n",
       "      <th>sat_participation</th>\n",
       "      <th>sat_total_score</th>\n",
       "    </tr>\n",
       "  </thead>\n",
       "  <tbody>\n",
       "    <tr>\n",
       "      <th>median_family_income</th>\n",
       "      <td>1.000000</td>\n",
       "      <td>0.087429</td>\n",
       "      <td>0.272080</td>\n",
       "    </tr>\n",
       "    <tr>\n",
       "      <th>sat_participation</th>\n",
       "      <td>0.087429</td>\n",
       "      <td>1.000000</td>\n",
       "      <td>-0.759483</td>\n",
       "    </tr>\n",
       "    <tr>\n",
       "      <th>sat_total_score</th>\n",
       "      <td>0.272080</td>\n",
       "      <td>-0.759483</td>\n",
       "      <td>1.000000</td>\n",
       "    </tr>\n",
       "  </tbody>\n",
       "</table>\n",
       "</div>"
      ],
      "text/plain": [
       "                      median_family_income  sat_participation  sat_total_score\n",
       "median_family_income              1.000000           0.087429         0.272080\n",
       "sat_participation                 0.087429           1.000000        -0.759483\n",
       "sat_total_score                   0.272080          -0.759483         1.000000"
      ]
     },
     "execution_count": 41,
     "metadata": {},
     "output_type": "execute_result"
    }
   ],
   "source": [
    "# masking\n",
    "higher_sat_participation = merged['sat_participation'] > 0.5\n",
    "merged[\n",
    "    ['median_family_income', \n",
    "     'sat_participation', \n",
    "     'sat_total_score']\n",
    "    ][higher_sat_participation].corr()"
   ]
  },
  {
   "cell_type": "code",
   "execution_count": 42,
   "metadata": {},
   "outputs": [
    {
     "data": {
      "text/html": [
       "<div>\n",
       "<style scoped>\n",
       "    .dataframe tbody tr th:only-of-type {\n",
       "        vertical-align: middle;\n",
       "    }\n",
       "\n",
       "    .dataframe tbody tr th {\n",
       "        vertical-align: top;\n",
       "    }\n",
       "\n",
       "    .dataframe thead th {\n",
       "        text-align: right;\n",
       "    }\n",
       "</style>\n",
       "<table border=\"1\" class=\"dataframe\">\n",
       "  <thead>\n",
       "    <tr style=\"text-align: right;\">\n",
       "      <th></th>\n",
       "      <th>state</th>\n",
       "      <th>median_family_income</th>\n",
       "      <th>sat_participation</th>\n",
       "      <th>act_participation</th>\n",
       "    </tr>\n",
       "  </thead>\n",
       "  <tbody>\n",
       "    <tr>\n",
       "      <th>40</th>\n",
       "      <td>South Carolina</td>\n",
       "      <td>66357</td>\n",
       "      <td>0.68</td>\n",
       "      <td>0.78</td>\n",
       "    </tr>\n",
       "    <tr>\n",
       "      <th>9</th>\n",
       "      <td>Florida</td>\n",
       "      <td>67414</td>\n",
       "      <td>1.00</td>\n",
       "      <td>0.54</td>\n",
       "    </tr>\n",
       "    <tr>\n",
       "      <th>33</th>\n",
       "      <td>North Carolina</td>\n",
       "      <td>68435</td>\n",
       "      <td>0.51</td>\n",
       "      <td>1.00</td>\n",
       "    </tr>\n",
       "    <tr>\n",
       "      <th>11</th>\n",
       "      <td>Hawaii</td>\n",
       "      <td>94982</td>\n",
       "      <td>0.54</td>\n",
       "      <td>0.80</td>\n",
       "    </tr>\n",
       "  </tbody>\n",
       "</table>\n",
       "</div>"
      ],
      "text/plain": [
       "             state  median_family_income  sat_participation  act_participation\n",
       "40  South Carolina                 66357               0.68               0.78\n",
       "9          Florida                 67414               1.00               0.54\n",
       "33  North Carolina                 68435               0.51               1.00\n",
       "11          Hawaii                 94982               0.54               0.80"
      ]
     },
     "execution_count": 42,
     "metadata": {},
     "output_type": "execute_result"
    }
   ],
   "source": [
    "merged[\n",
    "    ['state','median_family_income', \n",
    "     'sat_participation', \n",
    "     'act_participation']\n",
    "    ][\n",
    "    (merged['sat_participation'] > 0.5) & \n",
    "    (merged['act_participation'] > 0.5)\n",
    "    ].sort_values('median_family_income')"
   ]
  },
  {
   "cell_type": "markdown",
   "metadata": {},
   "source": [
    "*Observations*:\n",
    "After filtering for states with higher SAT participation rates (> 50%), correlation between median family income and SAT total score becomes positive but relationship remains minimal. \n",
    "Only 4 states have participation rates of > 50% for both SAT and ACT. No clear trend observed here."
   ]
  },
  {
   "cell_type": "markdown",
   "metadata": {},
   "source": [
    "## Visualize the Data\n",
    "\n",
    "There's not a magic bullet recommendation for the right number of plots to understand a given dataset, but visualizing your data is *always* a good idea. Not only does it allow you to quickly convey your findings (even if you have a non-technical audience), it will often reveal trends in your data that escaped you when you were looking only at numbers. It is important to not only create visualizations, but to **interpret your visualizations** as well.\n",
    "\n",
    "**Every plot should**:\n",
    "- Have a title\n",
    "- Have axis labels\n",
    "- Have appropriate tick labels\n",
    "- Text is legible in a plot\n",
    "- Plots demonstrate meaningful and valid relationships\n",
    "- Have an interpretation to aid understanding\n",
    "\n",
    "Here is an example of what your plots should look like following the above guidelines. Note that while the content of this example is unrelated, the principles of visualization hold:\n",
    "\n",
    "![](https://snag.gy/hCBR1U.jpg)\n",
    "*Interpretation: The above image shows that as we increase our spending on advertising, our sales numbers also tend to increase. There is a positive correlation between advertising spending and sales.*\n",
    "\n",
    "---\n",
    "\n",
    "Here are some prompts to get you started with visualizations. Feel free to add additional visualizations as you see fit:\n",
    "1. Use Seaborn's heatmap with pandas `.corr()` to visualize correlations between all numeric features.\n",
    "    - Heatmaps are generally not appropriate for presentations, and should often be excluded from reports as they can be visually overwhelming. **However**, they can be extremely useful in identify relationships of potential interest (as well as identifying potential collinearity before modeling).\n",
    "    - Please take time to format your output, adding a title. Look through some of the additional arguments and options. (Axis labels aren't really necessary, as long as the title is informative).\n",
    "2. Visualize distributions using histograms. If you have a lot, consider writing a custom function and use subplots.\n",
    "    - *OPTIONAL*: Summarize the underlying distributions of your features (in words & statistics)\n",
    "         - Be thorough in your verbal description of these distributions.\n",
    "         - Be sure to back up these summaries with statistics.\n",
    "         - We generally assume that data we sample from a population will be normally distributed. Do we observe this trend? Explain your answers for each distribution and how you think this will affect estimates made from these data.\n",
    "3. Plot and interpret boxplots. \n",
    "    - Boxplots demonstrate central tendency and spread in variables. In a certain sense, these are somewhat redundant with histograms, but you may be better able to identify clear outliers or differences in IQR, etc.\n",
    "    - Multiple values can be plotted to a single boxplot as long as they are of the same relative scale (meaning they have similar min/max values).\n",
    "    - Each boxplot should:\n",
    "        - Only include variables of a similar scale\n",
    "        - Have clear labels for each variable\n",
    "        - Have appropriate titles and labels\n",
    "4. Plot and interpret scatter plots to view relationships between features. Feel free to write a custom function, and subplot if you'd like. Functions save both time and space.\n",
    "    - Your plots should have:\n",
    "        - Two clearly labeled axes\n",
    "        - A proper title\n",
    "        - Colors and symbols that are clear and unmistakable\n",
    "5. Additional plots of your choosing.\n",
    "    - Are there any additional trends or relationships you haven't explored? Was there something interesting you saw that you'd like to dive further into? It's likely that there are a few more plots you might want to generate to support your narrative and recommendations that you are building toward. **As always, make sure you're interpreting your plots as you go**."
   ]
  },
  {
   "cell_type": "code",
   "execution_count": 43,
   "metadata": {},
   "outputs": [
    {
     "data": {
      "text/plain": [
       "<AxesSubplot:title={'center':'Heatmap of Correlations Between All Variable Pairs (2019)'}>"
      ]
     },
     "execution_count": 43,
     "metadata": {},
     "output_type": "execute_result"
    },
    {
     "data": {
      "image/png": "[encoded data removed]",
      "text/plain": [
       "<Figure size 1080x720 with 2 Axes>"
      ]
     },
     "metadata": {},
     "output_type": "display_data"
    }
   ],
   "source": [
    "# heatmap to better visualize correlations\n",
    "mask = np.triu(merged.corr())\n",
    "sns.set(font_scale=1.4) # Make sure words are readable\n",
    "plt.figure(figsize=(15, 10)) # Adjust the size\n",
    "plt.title(\"Heatmap of Correlations Between All Variable Pairs (2019)\", fontsize = 20) # Add title\n",
    "sns.heatmap(merged.corr(),annot=True, mask=mask) "
   ]
  },
  {
   "cell_type": "markdown",
   "metadata": {},
   "source": [
    "*interpretation*:\n",
    "\n",
    "* strong negative correlation observed between sat_total_score and sat_participation (r = -0.86)\n",
    "* strong negative correlation observed between act_composite_score and act_participation (r = -0.87)\n",
    "* moderate correlation observed between median_family_income and act_composite_score (r = 0.62)\n",
    "* moderate negative correlation observed between median_family_income and act_participation (r = -0.51)\n",
    "* strong negative correlation observed between act_participation and sat_participation (r = -0.87)\n",
    "\n",
    "A scatter plot might reveal trends between moderately correlated variables."
   ]
  },
  {
   "cell_type": "code",
   "execution_count": 44,
   "metadata": {},
   "outputs": [
    {
     "data": {
      "text/plain": [
       "<AxesSubplot:title={'center':'Distribution of SAT Composite Scores'}, xlabel='Score', ylabel='Count'>"
      ]
     },
     "execution_count": 44,
     "metadata": {},
     "output_type": "execute_result"
    },
    {
     "data": {
      "image/png": "[encoded data removed]",
      "text/plain": [
       "<Figure size 1296x576 with 2 Axes>"
      ]
     },
     "metadata": {},
     "output_type": "display_data"
    }
   ],
   "source": [
    "# Histograms illustrating distribution of test scores in 2019\n",
    "fig, axes = plt.subplots(nrows = 1, ncols = 2, figsize = (18, 8))\n",
    "fig.suptitle('Distribution of Mean State SAT and ACT Scores in 2019', fontsize = 20)\n",
    "\n",
    "axes[0].set_title('Distribution of ACT Composite Scores')\n",
    "axes[0].set_xlabel(\"Score\", fontsize = 16)\n",
    "\n",
    "axes[1].set_title('Distribution of SAT Composite Scores')\n",
    "axes[1].set_xlabel(\"Score\", fontsize = 16)\n",
    "\n",
    "sns.histplot(ax = axes[0], data = merged.act_composite_score, kde=True)\n",
    "sns.histplot(data = merged.sat_total_score, kde=True)"
   ]
  },
  {
   "cell_type": "code",
   "execution_count": 45,
   "metadata": {},
   "outputs": [
    {
     "data": {
      "text/plain": [
       "Text(0.5, 1.0, 'Bar Chart of ACT and SAT Participation Rates in Each State')"
      ]
     },
     "execution_count": 45,
     "metadata": {},
     "output_type": "execute_result"
    },
    {
     "data": {
      "image/png": "[encoded data removed]",
      "text/plain": [
       "<Figure size 720x1440 with 1 Axes>"
      ]
     },
     "metadata": {},
     "output_type": "display_data"
    }
   ],
   "source": [
    "# bar chart showing particpation of ACT vs SAT in each state\n",
    "merged.sort_values('act_participation').plot(x=\"state\", y=[\"act_participation\", \"sat_participation\"], kind = \"barh\", figsize = (10,20))\n",
    "plt.title('Bar Chart of ACT and SAT Participation Rates in Each State')"
   ]
  },
  {
   "cell_type": "markdown",
   "metadata": {},
   "source": [
    "*Interpretation: Most states have a much higher participation rate in one test as opposed to the other. Only a few states have > 50% participation rates for both tests. An interesting observation but there does not seem to be a pattern between the states with more even participation rates and their median family incomes. Sadly, this does not help in answering the problem statement but may support other trends and inform recommendations*"
   ]
  },
  {
   "cell_type": "code",
   "execution_count": 46,
   "metadata": {},
   "outputs": [],
   "source": [
    "# Scatterplot function; size argument takes in a tuple with 2 elements\n",
    "def create_scatterplot(title, x, y, xlabel = None, ylabel = None, regplot = False, ax = None):\n",
    "    \n",
    "    ax.set_title(title)\n",
    "    ax.set_xlabel(xlabel)\n",
    "    ax.set_ylabel(ylabel)\n",
    "    \n",
    "    if regplot:    \n",
    "        sns.regplot(x = x, y = y, ax = ax)\n",
    "    \n",
    "    else:\n",
    "        sns.scatterplot(x = x, y = y, ax = ax)"
   ]
  },
  {
   "cell_type": "code",
   "execution_count": 47,
   "metadata": {},
   "outputs": [
    {
     "data": {
      "image/png": "[encoded data removed]",
      "text/plain": [
       "<Figure size 576x432 with 1 Axes>"
      ]
     },
     "metadata": {},
     "output_type": "display_data"
    }
   ],
   "source": [
    "x = merged['median_family_income']\n",
    "y = merged['act_composite_score']\n",
    "\n",
    "fig, ax1 = plt.subplots(1, 1, figsize=(8,6))\n",
    "\n",
    "title1 = \"ACT Composite Score vs Median Family Income\"\n",
    "create_scatterplot(title1, x, y, 'Median family income', 'ACT composite score', regplot = False, ax = ax1)"
   ]
  },
  {
   "cell_type": "markdown",
   "metadata": {},
   "source": [
    "*Interpretation:\n",
    "State ACT composite score increases as state median family income increases. This supports the argument that wealth has a positive influence on ACT test scores, and there might be some issues with fairness.*"
   ]
  },
  {
   "cell_type": "code",
   "execution_count": 48,
   "metadata": {},
   "outputs": [
    {
     "data": {
      "image/png": "[encoded data removed]",
      "text/plain": [
       "<Figure size 576x432 with 1 Axes>"
      ]
     },
     "metadata": {},
     "output_type": "display_data"
    }
   ],
   "source": [
    "x = merged['median_family_income']\n",
    "y = merged['sat_total_score']\n",
    "\n",
    "fig, ax1 = plt.subplots(1, 1, figsize=(8,6))\n",
    "\n",
    "title1 = \"SAT Total Score vs Median Family Income\"\n",
    "create_scatterplot(title1, x, y, 'Median family income', 'SAT total score', regplot = False, ax = ax1)\n",
    "\n",
    "# x2 = merged['median_family_income'][merged['act_participation'] < 0.9]\n",
    "# y2 = merged['sat_total_score'][merged['act_participation'] < 0.9]\n",
    "\n",
    "# title2 = \"SAT Total Score vs Median Family Income\\n (Participation Rate > 0.5)\"\n",
    "# create_scatterplot(title2, x2, y2, 'Median family income', 'SAT total score', regplot = False, ax = ax2)"
   ]
  },
  {
   "cell_type": "markdown",
   "metadata": {},
   "source": [
    "*Interpretation: The above image shows that there is no visible trend between SAT total score and median family income. States with higher median income can have SAT scores than those with lower median incomes, suggesting that SAT scores might actually be a more equitable measure of aptitude that is less influenced by wealth.*"
   ]
  },
  {
   "cell_type": "code",
   "execution_count": 49,
   "metadata": {},
   "outputs": [
    {
     "data": {
      "image/png": "[encoded data removed]",
      "text/plain": [
       "<Figure size 1152x432 with 2 Axes>"
      ]
     },
     "metadata": {},
     "output_type": "display_data"
    }
   ],
   "source": [
    "fig, (ax1,ax2) = plt.subplots(1, 2, figsize=(16,6))\n",
    "\n",
    "x = merged['median_family_income']\n",
    "y1 = merged['act_participation']\n",
    "title1 = \"ACT Participation Rate vs Median Family Income\"\n",
    "create_scatterplot(title1, x, y1, 'Median family income', 'ACT participation rate', regplot = False, ax = ax1)\n",
    "\n",
    "y2 = merged['sat_participation']\n",
    "title2 = \"SAT Participation Rate vs Median Family Income\"\n",
    "create_scatterplot(title2, x, y2, 'Median family income', 'SAT participation rate', regplot = False, ax = ax2)"
   ]
  },
  {
   "cell_type": "markdown",
   "metadata": {},
   "source": [
    "*Interpretation: Lastly, we look at participation rates for both tests in relation to state median family income. At first glance, a relationship is not immediately obvious, but removing the states where ACT or SAT participation alone is a graduation requirement (100% participation rate in that test), States with higher median family income appear to lean more towards the SATs.*"
   ]
  },
  {
   "cell_type": "markdown",
   "metadata": {},
   "source": [
    "## Conclusions and Recommendations"
   ]
  },
  {
   "cell_type": "markdown",
   "metadata": {},
   "source": [
    "Based on your exploration of the data, what are you key takeaways and recommendations? Make sure to answer your question of interest or address your problem statement here."
   ]
  },
  {
   "cell_type": "markdown",
   "metadata": {},
   "source": [
    "**Key takeaways**\n",
    "\n",
    "The data suggests that wealthier states have higher mean ACT composite scores, while no such relationship is seen with SAT total scores. This could serve as a starting point to re-evaluate the validity of the ACT in being an objective measure of academic aptitude or find interventions to uplift lower median income states.\n",
    "\n",
    "Of note is also the fact that ACT participation is higher with lower state median family income, which means overhauling the way schools approach the ACT could have greater impact. While it is way more difficult to tackle income disparity to level the playing field in the short run, better basic test preparation for the ACT can be implemented in schools within a shorter time frame as a means to bridge the resource gap. Learning points could be picked up from the Chinese GaoKao, a nationwide standardized test used for college admissions in China. There, the final year of high school is often devoted to preparations.\n",
    "\n",
    "While standardized testing may not exactly be the fairest of measures, neither are other college admission criteria. Coming from a wealthier family is likely to provide more opportunities for extracurricular activities, relevant work opportunities, and volunteering experiences as well.\n",
    "\n",
    "Back in 2014, the College Board reviewed and overhauled the SAT tests. Data back then showed a positive correlation between students' household incomes and SAT test scores. Perhaps the overhaul had its intended effect, making the SATs a much more equitable measure of aptitude based on 2019 data. Colleges should thus consider using the SAT as a part of its admissions criteria.\n",
    "\n",
    "\n",
    "**Limitation and future analyses**:\n",
    "\n",
    "Based on both an examination of the data and a review of state college entrance exam testing policy, it is clear that participation in such tests is heavily influenced by state policy towards testing. Most states mandate either one of the two tests and a strong negative relationship between test participation and average test score was found. This means that states with low participation rates for a given test are likely to see higher average scores than a state with high participation rates on that same test, making the comparison of average scores among states with large participation rate differences potentially problematic.\n",
    "\n",
    "Additional data is definitely required to further refine the analysis. Due to differences in state standardized testing requirements, income data for various districts wihin a single state might be useful to compare with average scores in those districts as well, controlling for differing state policies. "
   ]
  }
 ],
 "metadata": {
  "anaconda-cloud": {},
  "kernelspec": {
   "display_name": "Python 3 (ipykernel)",
   "language": "python",
   "name": "python3"
  },
  "language_info": {
   "codemirror_mode": {
    "name": "ipython",
    "version": 3
   },
   "file_extension": ".py",
   "mimetype": "text/x-python",
   "name": "python",
   "nbconvert_exporter": "python",
   "pygments_lexer": "ipython3",
   "version": "3.9.12"
  }
 },
 "nbformat": 4,
 "nbformat_minor": 4
}
